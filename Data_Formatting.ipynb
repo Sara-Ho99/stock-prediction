{
 "cells": [
  {
   "cell_type": "code",
   "execution_count": null,
   "id": "initial_id",
   "metadata": {
    "collapsed": true
   },
   "outputs": [],
   "source": [
    "# For VIX file\n",
    "# 1. Import data\n",
    "file_path = './data/VIX_original.csv'\n",
    "data = pd.read_csv(file_path)\n",
    "# 2. Preparing Data\n",
    "data['Date'] = pd.to_datetime(data['Date'])\n",
    "data.set_index('Date', inplace=True)\n",
    "data = data.sort_index(ascending=True)\n",
    "\n",
    "# 删除包含null值的整行\n",
    "data = data.dropna()\n",
    "\n",
    "# 导出数据集为 CSV 文件\n",
    "data.to_csv('VIX_exported_data.csv')"
   ]
  }
 ],
 "metadata": {
  "kernelspec": {
   "display_name": "Python 3",
   "language": "python",
   "name": "python3"
  },
  "language_info": {
   "codemirror_mode": {
    "name": "ipython",
    "version": 2
   },
   "file_extension": ".py",
   "mimetype": "text/x-python",
   "name": "python",
   "nbconvert_exporter": "python",
   "pygments_lexer": "ipython2",
   "version": "2.7.6"
  }
 },
 "nbformat": 4,
 "nbformat_minor": 5
}
