{
 "cells": [
  {
   "cell_type": "code",
   "id": "e2335a3b",
   "metadata": {
    "ExecuteTime": {
     "end_time": "2024-07-21T19:54:05.552Z",
     "start_time": "2024-07-21T19:54:05.543827Z"
    }
   },
   "source": [
    "# 0. Import all libraries\n",
    "import pandas as pd\n",
    "import numpy as np\n",
    "from sklearn.metrics import mean_squared_error\n",
    "import matplotlib.pyplot as plt\n",
    "from sklearn.preprocessing import MinMaxScaler\n",
    "from tensorflow.keras.models import Sequential\n",
    "from tensorflow.keras.layers import LSTM, Dense, Dropout\n"
   ],
   "outputs": [],
   "execution_count": 27
  },
  {
   "metadata": {
    "ExecuteTime": {
     "end_time": "2024-07-21T19:54:06.563964Z",
     "start_time": "2024-07-21T19:54:05.554314Z"
    }
   },
   "cell_type": "code",
   "source": [
    "import time\n",
    "import psutil\n",
    "\n",
    "# Record run time\n",
    "start_time = time.time()\n",
    "\n",
    "# Record cpu usage and memory usage\n",
    "initial_cpu_usage = psutil.cpu_percent(interval=1)\n",
    "initial_memory_info = psutil.virtual_memory()"
   ],
   "id": "f472d9e6015b7ac4",
   "outputs": [],
   "execution_count": 28
  },
  {
   "cell_type": "code",
   "id": "c6ddb23b",
   "metadata": {
    "ExecuteTime": {
     "end_time": "2024-07-21T19:54:06.587411Z",
     "start_time": "2024-07-21T19:54:06.567089Z"
    }
   },
   "source": [
    "# 1. Import data\n",
    "# Close prices + Other prices + Volumes\n",
    "file_path = './data/SMCI_merged.csv'\n",
    "data = pd.read_csv(file_path)"
   ],
   "outputs": [],
   "execution_count": 29
  },
  {
   "metadata": {
    "ExecuteTime": {
     "end_time": "2024-07-21T19:54:06.609399Z",
     "start_time": "2024-07-21T19:54:06.590474Z"
    }
   },
   "cell_type": "code",
   "source": [
    "# 2. Preparing Data\n",
    "data['Date'] = pd.to_datetime(data['Date'])\n",
    "data.set_index('Date', inplace=True)\n",
    "data = data.sort_index(ascending=True)\n",
    "\n",
    "columns_to_keep = ['Open', 'High', 'Low', 'Close/Last', 'Volume', 'DPRIME', 'VIX_Close']\n",
    "data = data[columns_to_keep]\n",
    "\n",
    "# Subset data for the specified date range\n",
    "start_date = '2014-06-24'\n",
    "end_date = '2024-06-21'\n",
    "data = data[(data.index >= start_date) & (data.index <= end_date)]"
   ],
   "id": "4bebec3cb713e717",
   "outputs": [],
   "execution_count": 30
  },
  {
   "metadata": {
    "ExecuteTime": {
     "end_time": "2024-07-21T19:54:06.616170Z",
     "start_time": "2024-07-21T19:54:06.610629Z"
    }
   },
   "cell_type": "code",
   "source": [
    "# # Split data, method 1\n",
    "# total_length = len(data)\n",
    "# train_length = int(total_length * 0.80)\n",
    "# train_set = data.iloc[:train_length].copy()\n",
    "# valid_set = data.iloc[train_length:].copy()\n",
    "\n",
    "# Split data, method 2\n",
    "train_set = data[(data.index >= '2014-06-24') & (data.index < '2023-06-24')].copy()\n",
    "valid_set = data[(data.index >= '2022-06-25') & (data.index <= '2024-06-21')].copy()"
   ],
   "id": "3b1b81e6cb31a68c",
   "outputs": [],
   "execution_count": 31
  },
  {
   "metadata": {
    "ExecuteTime": {
     "end_time": "2024-07-21T19:54:06.625806Z",
     "start_time": "2024-07-21T19:54:06.617213Z"
    }
   },
   "cell_type": "code",
   "source": [
    "# Evaluate the importance of features\n",
    "\n",
    "from sklearn.feature_selection import SelectKBest, f_regression\n",
    "from sklearn.preprocessing import StandardScaler\n",
    "\n",
    "X = data[['Open', 'High', 'Low', 'Volume', 'DPRIME', 'VIX_Close']].values\n",
    "y = data['Close/Last'].values\n",
    "\n",
    "scaler = StandardScaler()\n",
    "X_scaled = scaler.fit_transform(X)\n",
    "\n",
    "selector = SelectKBest(score_func=f_regression, k='all')\n",
    "selector.fit(X_scaled, y)\n",
    "feature_scores = selector.scores_\n",
    "\n",
    "for feature, score in zip(['Open', 'High', 'Low', 'Volume', 'DPRIME', 'VIX_Close'], feature_scores):\n",
    "    print(f\"Feature: {feature}, Score: {score}\")"
   ],
   "id": "69c0d8d04cdc5fd2",
   "outputs": [
    {
     "name": "stdout",
     "output_type": "stream",
     "text": [
      "Feature: Open, Score: 716188.3813470071\n",
      "Feature: High, Score: 1248429.3818496906\n",
      "Feature: Low, Score: 2164461.9807615173\n",
      "Feature: Volume, Score: 3269.5304888065248\n",
      "Feature: DPRIME, Score: 1987.46731788726\n",
      "Feature: VIX_Close, Score: 45.86508590417653\n"
     ]
    }
   ],
   "execution_count": 32
  },
  {
   "metadata": {
    "ExecuteTime": {
     "end_time": "2024-07-21T19:54:06.629308Z",
     "start_time": "2024-07-21T19:54:06.626667Z"
    }
   },
   "cell_type": "code",
   "source": [
    "# 2. Setup Variables\n",
    "# 2.1 Time horizon set to be 9 years for training, 1 year for validation\n",
    "# 2.2 time steps for LSTM\n",
    "time_steps = 60     # tested [30, 60, 90, 120], 90 is the most efficient one\n",
    "\n",
    "# 2.3 Feature selection\n",
    "selected_features = ['Close/Last', 'Volume', 'DPRIME', 'VIX_Close']\n",
    "\n",
    "num_features = len(selected_features)"
   ],
   "id": "c4fdd0a79a1db08d",
   "outputs": [],
   "execution_count": 33
  },
  {
   "metadata": {
    "ExecuteTime": {
     "end_time": "2024-07-21T19:54:07.024632Z",
     "start_time": "2024-07-21T19:54:06.630071Z"
    }
   },
   "cell_type": "code",
   "source": [
    "# 3. Data pre-processing\n",
    "\n",
    "scalers = {}\n",
    "train_data = train_set.copy()\n",
    "valid_data = valid_set.copy()\n",
    "\n",
    "for feature in selected_features:\n",
    "    scalers[feature] = MinMaxScaler(feature_range=(0, 1))\n",
    "    # scalers[feature] = StandardScaler()\n",
    "    train_data[feature] = scalers[feature].fit_transform(train_set[feature].values.reshape(-1, 1))\n",
    "    valid_data[feature] = scalers[feature].transform(valid_set[feature].values.reshape(-1, 1))\n",
    "\n",
    "for feature in selected_features:\n",
    "    scalers[feature] = MinMaxScaler(feature_range=(0, 1))\n",
    "    train_data[feature] = scalers[feature].fit_transform(train_set[feature].values.reshape(-1, 1))\n",
    "    valid_data[feature] = scalers[feature].transform(valid_set[feature].values.reshape(-1, 1))\n",
    "\n",
    "# Initialize lists to store training and validation data\n",
    "x_train, y_train = [], []\n",
    "for i in range(time_steps, len(train_data)):\n",
    "    x_train.append(train_data[selected_features].values[i-time_steps:i])\n",
    "    y_train.append(train_data['Close/Last'].values[i])\n",
    "\n",
    "x_valid, y_valid = [], []\n",
    "for i in range(time_steps, len(valid_data)):\n",
    "    x_valid.append(valid_data[selected_features].values[i-time_steps:i])\n",
    "    y_valid.append(valid_data['Close/Last'].values[i])\n",
    "\n",
    "# Convert lists to numpy arrays\n",
    "x_train, y_train = np.array(x_train), np.array(y_train)\n",
    "x_valid, y_valid = np.array(x_valid), np.array(y_valid)\n"
   ],
   "id": "8d200d27876586e7",
   "outputs": [],
   "execution_count": 34
  },
  {
   "cell_type": "code",
   "id": "8c5c9382",
   "metadata": {
    "ExecuteTime": {
     "end_time": "2024-07-21T19:54:07.029552Z",
     "start_time": "2024-07-21T19:54:07.026666Z"
    }
   },
   "source": [
    "# 4. Build Model - function\n",
    "def build_model():\n",
    "    model = Sequential()\n",
    "    model.add(LSTM(units=50, return_sequences=True, input_shape=(time_steps, num_features)))\n",
    "    model.add(Dropout(0.2))\n",
    "    model.add(LSTM(units=50, return_sequences=False))\n",
    "    model.add(Dropout(0.2))\n",
    "    model.add(Dense(units=1))\n",
    "    model.compile(optimizer='adam', loss='mean_squared_error')\n",
    "    return model"
   ],
   "outputs": [],
   "execution_count": 35
  },
  {
   "cell_type": "code",
   "id": "f32867f6",
   "metadata": {
    "scrolled": true,
    "ExecuteTime": {
     "end_time": "2024-07-21T19:54:44.433473Z",
     "start_time": "2024-07-21T19:54:07.030479Z"
    }
   },
   "source": [
    "# Training\n",
    "model = build_model()\n",
    "# history = model.fit(x_train, y_train, epochs=25, batch_size=32)\n",
    "history = model.fit(x_train, y_train, epochs=25, batch_size=32, validation_split=0.1, verbose=1)\n",
    "\n",
    "\n",
    "predicted_y_valid_normalized = model.predict(x_valid)\n",
    "predicted_y_valid = scalers['Close/Last'].inverse_transform(predicted_y_valid_normalized)\n"
   ],
   "outputs": [
    {
     "name": "stdout",
     "output_type": "stream",
     "text": [
      "Epoch 1/25\n"
     ]
    },
    {
     "name": "stderr",
     "output_type": "stream",
     "text": [
      "/Users/beilinye/Desktop/Spring_2024/SYDE_660a/6_Code/stock-prediction/.venv/lib/python3.10/site-packages/keras/src/layers/rnn/rnn.py:204: UserWarning: Do not pass an `input_shape`/`input_dim` argument to a layer. When using Sequential models, prefer using an `Input(shape)` object as the first layer in the model instead.\n",
      "  super().__init__(**kwargs)\n"
     ]
    },
    {
     "name": "stdout",
     "output_type": "stream",
     "text": [
      "\u001B[1m63/63\u001B[0m \u001B[32m━━━━━━━━━━━━━━━━━━━━\u001B[0m\u001B[37m\u001B[0m \u001B[1m2s\u001B[0m 25ms/step - loss: 7.9672e-04 - val_loss: 0.0127\n",
      "Epoch 2/25\n",
      "\u001B[1m63/63\u001B[0m \u001B[32m━━━━━━━━━━━━━━━━━━━━\u001B[0m\u001B[37m\u001B[0m \u001B[1m2s\u001B[0m 24ms/step - loss: 2.0868e-04 - val_loss: 0.0068\n",
      "Epoch 3/25\n",
      "\u001B[1m63/63\u001B[0m \u001B[32m━━━━━━━━━━━━━━━━━━━━\u001B[0m\u001B[37m\u001B[0m \u001B[1m1s\u001B[0m 22ms/step - loss: 1.5541e-04 - val_loss: 0.0048\n",
      "Epoch 4/25\n",
      "\u001B[1m63/63\u001B[0m \u001B[32m━━━━━━━━━━━━━━━━━━━━\u001B[0m\u001B[37m\u001B[0m \u001B[1m1s\u001B[0m 23ms/step - loss: 1.4161e-04 - val_loss: 0.0055\n",
      "Epoch 5/25\n",
      "\u001B[1m63/63\u001B[0m \u001B[32m━━━━━━━━━━━━━━━━━━━━\u001B[0m\u001B[37m\u001B[0m \u001B[1m1s\u001B[0m 23ms/step - loss: 1.0171e-04 - val_loss: 0.0037\n",
      "Epoch 6/25\n",
      "\u001B[1m63/63\u001B[0m \u001B[32m━━━━━━━━━━━━━━━━━━━━\u001B[0m\u001B[37m\u001B[0m \u001B[1m1s\u001B[0m 23ms/step - loss: 1.1245e-04 - val_loss: 0.0027\n",
      "Epoch 7/25\n",
      "\u001B[1m63/63\u001B[0m \u001B[32m━━━━━━━━━━━━━━━━━━━━\u001B[0m\u001B[37m\u001B[0m \u001B[1m1s\u001B[0m 22ms/step - loss: 1.2923e-04 - val_loss: 0.0030\n",
      "Epoch 8/25\n",
      "\u001B[1m63/63\u001B[0m \u001B[32m━━━━━━━━━━━━━━━━━━━━\u001B[0m\u001B[37m\u001B[0m \u001B[1m1s\u001B[0m 23ms/step - loss: 9.0238e-05 - val_loss: 0.0025\n",
      "Epoch 9/25\n",
      "\u001B[1m63/63\u001B[0m \u001B[32m━━━━━━━━━━━━━━━━━━━━\u001B[0m\u001B[37m\u001B[0m \u001B[1m1s\u001B[0m 23ms/step - loss: 9.4569e-05 - val_loss: 0.0037\n",
      "Epoch 10/25\n",
      "\u001B[1m63/63\u001B[0m \u001B[32m━━━━━━━━━━━━━━━━━━━━\u001B[0m\u001B[37m\u001B[0m \u001B[1m1s\u001B[0m 23ms/step - loss: 7.4944e-05 - val_loss: 0.0022\n",
      "Epoch 11/25\n",
      "\u001B[1m63/63\u001B[0m \u001B[32m━━━━━━━━━━━━━━━━━━━━\u001B[0m\u001B[37m\u001B[0m \u001B[1m1s\u001B[0m 23ms/step - loss: 7.2168e-05 - val_loss: 0.0023\n",
      "Epoch 12/25\n",
      "\u001B[1m63/63\u001B[0m \u001B[32m━━━━━━━━━━━━━━━━━━━━\u001B[0m\u001B[37m\u001B[0m \u001B[1m1s\u001B[0m 21ms/step - loss: 8.5893e-05 - val_loss: 0.0026\n",
      "Epoch 13/25\n",
      "\u001B[1m63/63\u001B[0m \u001B[32m━━━━━━━━━━━━━━━━━━━━\u001B[0m\u001B[37m\u001B[0m \u001B[1m1s\u001B[0m 23ms/step - loss: 8.6236e-05 - val_loss: 0.0027\n",
      "Epoch 14/25\n",
      "\u001B[1m63/63\u001B[0m \u001B[32m━━━━━━━━━━━━━━━━━━━━\u001B[0m\u001B[37m\u001B[0m \u001B[1m1s\u001B[0m 23ms/step - loss: 7.6860e-05 - val_loss: 0.0024\n",
      "Epoch 15/25\n",
      "\u001B[1m63/63\u001B[0m \u001B[32m━━━━━━━━━━━━━━━━━━━━\u001B[0m\u001B[37m\u001B[0m \u001B[1m1s\u001B[0m 22ms/step - loss: 6.2608e-05 - val_loss: 0.0022\n",
      "Epoch 16/25\n",
      "\u001B[1m63/63\u001B[0m \u001B[32m━━━━━━━━━━━━━━━━━━━━\u001B[0m\u001B[37m\u001B[0m \u001B[1m1s\u001B[0m 23ms/step - loss: 6.6819e-05 - val_loss: 0.0031\n",
      "Epoch 17/25\n",
      "\u001B[1m63/63\u001B[0m \u001B[32m━━━━━━━━━━━━━━━━━━━━\u001B[0m\u001B[37m\u001B[0m \u001B[1m1s\u001B[0m 23ms/step - loss: 6.1016e-05 - val_loss: 0.0025\n",
      "Epoch 18/25\n",
      "\u001B[1m63/63\u001B[0m \u001B[32m━━━━━━━━━━━━━━━━━━━━\u001B[0m\u001B[37m\u001B[0m \u001B[1m1s\u001B[0m 22ms/step - loss: 5.8275e-05 - val_loss: 0.0044\n",
      "Epoch 19/25\n",
      "\u001B[1m63/63\u001B[0m \u001B[32m━━━━━━━━━━━━━━━━━━━━\u001B[0m\u001B[37m\u001B[0m \u001B[1m1s\u001B[0m 23ms/step - loss: 7.0491e-05 - val_loss: 0.0047\n",
      "Epoch 20/25\n",
      "\u001B[1m63/63\u001B[0m \u001B[32m━━━━━━━━━━━━━━━━━━━━\u001B[0m\u001B[37m\u001B[0m \u001B[1m2s\u001B[0m 24ms/step - loss: 6.4379e-05 - val_loss: 0.0032\n",
      "Epoch 21/25\n",
      "\u001B[1m63/63\u001B[0m \u001B[32m━━━━━━━━━━━━━━━━━━━━\u001B[0m\u001B[37m\u001B[0m \u001B[1m1s\u001B[0m 22ms/step - loss: 6.5012e-05 - val_loss: 0.0033\n",
      "Epoch 22/25\n",
      "\u001B[1m63/63\u001B[0m \u001B[32m━━━━━━━━━━━━━━━━━━━━\u001B[0m\u001B[37m\u001B[0m \u001B[1m2s\u001B[0m 24ms/step - loss: 5.1860e-05 - val_loss: 0.0031\n",
      "Epoch 23/25\n",
      "\u001B[1m63/63\u001B[0m \u001B[32m━━━━━━━━━━━━━━━━━━━━\u001B[0m\u001B[37m\u001B[0m \u001B[1m1s\u001B[0m 23ms/step - loss: 5.5056e-05 - val_loss: 0.0021\n",
      "Epoch 24/25\n",
      "\u001B[1m63/63\u001B[0m \u001B[32m━━━━━━━━━━━━━━━━━━━━\u001B[0m\u001B[37m\u001B[0m \u001B[1m1s\u001B[0m 23ms/step - loss: 5.0484e-05 - val_loss: 0.0038\n",
      "Epoch 25/25\n",
      "\u001B[1m63/63\u001B[0m \u001B[32m━━━━━━━━━━━━━━━━━━━━\u001B[0m\u001B[37m\u001B[0m \u001B[1m1s\u001B[0m 21ms/step - loss: 5.5993e-05 - val_loss: 0.0030\n",
      "\u001B[1m14/14\u001B[0m \u001B[32m━━━━━━━━━━━━━━━━━━━━\u001B[0m\u001B[37m\u001B[0m \u001B[1m0s\u001B[0m 11ms/step\n"
     ]
    }
   ],
   "execution_count": 36
  },
  {
   "cell_type": "code",
   "id": "43e1f87a",
   "metadata": {
    "scrolled": false,
    "ExecuteTime": {
     "end_time": "2024-07-21T19:54:44.575721Z",
     "start_time": "2024-07-21T19:54:44.434894Z"
    }
   },
   "source": [
    "# Print & Visualize the results\n",
    "valid_rmse = np.sqrt(mean_squared_error(valid_set['Close/Last'].values[time_steps:], predicted_y_valid))\n",
    "print(f\"LSTM RMSE on validation set: {valid_rmse}\")\n",
    "\n",
    "# Visualization\n",
    "plt.figure(figsize=(14, 7))\n",
    "plt.plot(train_set.index, train_set['Close/Last'], label='Training Data')\n",
    "plt.plot(valid_set.index[time_steps:], valid_set['Close/Last'].values[time_steps:], label='Validation Data')\n",
    "plt.plot(valid_set.index[time_steps:], predicted_y_valid, label='Validation Predictions')\n",
    "plt.xlabel('Date')\n",
    "plt.ylabel('Stock Price')\n",
    "plt.title('Stock Price Prediction with LSTM (SMCI)')\n",
    "plt.legend()\n",
    "plt.show()"
   ],
   "outputs": [
    {
     "name": "stdout",
     "output_type": "stream",
     "text": [
      "LSTM RMSE on validation set: 59.54529583452848\n"
     ]
    },
    {
     "data": {
      "text/plain": [
       "<Figure size 1400x700 with 1 Axes>"
      ],
      "image/png": "[encoded data removed]"
     },
     "metadata": {},
     "output_type": "display_data"
    }
   ],
   "execution_count": 37
  },
  {
   "metadata": {
    "ExecuteTime": {
     "end_time": "2024-07-21T19:54:45.589852Z",
     "start_time": "2024-07-21T19:54:44.577111Z"
    }
   },
   "cell_type": "code",
   "source": [
    "# CPU & memory\n",
    "final_cpu_usage = psutil.cpu_percent(interval=1)\n",
    "final_memory_info = psutil.virtual_memory()\n",
    "cpu_usage_diff = round(final_cpu_usage - initial_cpu_usage, 2)\n",
    "memory_usage_diff = round(final_memory_info.percent - initial_memory_info.percent, 2)\n",
    "\n",
    "# Time\n",
    "end_time = time.time()\n",
    "total_time = round(end_time - start_time, 2)\n",
    "\n",
    "print(f\"CPU Usage: {cpu_usage_diff}%\")\n",
    "print(f\"Memory Usage: {memory_usage_diff}%\")\n",
    "print(f\"Total execution time: {total_time} seconds\")"
   ],
   "id": "68469869811adc81",
   "outputs": [
    {
     "name": "stdout",
     "output_type": "stream",
     "text": [
      "CPU Usage: 12.2%\n",
      "Memory Usage: -0.2%\n",
      "Total execution time: 40.03 seconds\n"
     ]
    }
   ],
   "execution_count": 38
  },
  {
   "metadata": {
    "ExecuteTime": {
     "end_time": "2024-07-21T19:54:45.595979Z",
     "start_time": "2024-07-21T19:54:45.592147Z"
    }
   },
   "cell_type": "code",
   "source": [
    "# # Visualization of loss\n",
    "# plt.figure(figsize=(14, 7))\n",
    "# plt.plot(history.history['loss'], label='Training Loss')\n",
    "# plt.plot(history.history['val_loss'], label='Validation Loss')\n",
    "# plt.xlabel('Epoch')\n",
    "# plt.ylabel('Loss')\n",
    "# plt.title('Loss during Training')\n",
    "# plt.legend()\n",
    "# plt.show()"
   ],
   "id": "bff60b49cba11d93",
   "outputs": [],
   "execution_count": 39
  }
 ],
 "metadata": {
  "kernelspec": {
   "display_name": "Python 3 (ipykernel)",
   "language": "python",
   "name": "python3"
  },
  "language_info": {
   "codemirror_mode": {
    "name": "ipython",
    "version": 3
   },
   "file_extension": ".py",
   "mimetype": "text/x-python",
   "name": "python",
   "nbconvert_exporter": "python",
   "pygments_lexer": "ipython3",
   "version": "3.11.5"
  }
 },
 "nbformat": 4,
 "nbformat_minor": 5
}
