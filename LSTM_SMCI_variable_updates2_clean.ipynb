{
 "cells": [
  {
   "metadata": {
    "ExecuteTime": {
     "end_time": "2024-07-15T17:32:59.727308Z",
     "start_time": "2024-07-15T17:32:59.704389Z"
    }
   },
   "cell_type": "code",
   "source": [
    "# 0. Import all libraries\n",
    "import pandas as pd\n",
    "import numpy as np\n",
    "from sklearn.linear_model import LinearRegression\n",
    "from sklearn.metrics import mean_squared_error\n",
    "import datetime as dt\n",
    "import matplotlib.pyplot as plt\n",
    "from sklearn.preprocessing import MinMaxScaler\n",
    "from tensorflow.keras.models import Sequential\n",
    "from tensorflow.keras.layers import LSTM, Dense, Dropout"
   ],
   "id": "c964da099cdf32a7",
   "outputs": [],
   "execution_count": 28
  },
  {
   "cell_type": "code",
   "id": "c6ddb23b",
   "metadata": {
    "ExecuteTime": {
     "end_time": "2024-07-15T17:32:59.755841Z",
     "start_time": "2024-07-15T17:32:59.732602Z"
    }
   },
   "source": [
    "# 1. Import data\n",
    "file_path = './data/merged_data.csv'\n",
    "data = pd.read_csv(file_path)"
   ],
   "outputs": [],
   "execution_count": 29
  },
  {
   "cell_type": "code",
   "id": "09dd4872",
   "metadata": {
    "ExecuteTime": {
     "end_time": "2024-07-15T17:32:59.762610Z",
     "start_time": "2024-07-15T17:32:59.759399Z"
    }
   },
   "source": [
    "# # Data Cleaning\n",
    "# \n",
    "# # Remove dollar signs and convert to float for specified columns\n",
    "# columns_to_convert = ['Close/Last', 'Open', 'High', 'Low']\n",
    "# for column in columns_to_convert:\n",
    "#     data[column] = data[column].str.replace('$', '').str.replace(',', '').astype(float)"
   ],
   "outputs": [],
   "execution_count": 30
  },
  {
   "metadata": {
    "ExecuteTime": {
     "end_time": "2024-07-15T17:32:59.782550Z",
     "start_time": "2024-07-15T17:32:59.765352Z"
    }
   },
   "cell_type": "code",
   "source": [
    "# Preparing Data\n",
    "data['Date'] = pd.to_datetime(data['Date'])\n",
    "data = data.sort_values(by='Date', ascending=True)\n",
    "\n",
    "train_set = data[(data['Date'] >= '2014-06-24') & (data['Date'] < '2023-06-24')].copy()\n",
    "# train_set = data[(data['Date'] >= '2020-03-24') & (data['Date'] < '2022-06-24')].copy()\n",
    "valid_set = data[(data['Date'] >= '2022-06-25') & (data['Date'] <= '2024-06-21')].copy()"
   ],
   "id": "adcddb4aa6d865d9",
   "outputs": [],
   "execution_count": 31
  },
  {
   "metadata": {
    "ExecuteTime": {
     "end_time": "2024-07-15T17:32:59.797972Z",
     "start_time": "2024-07-15T17:32:59.784057Z"
    }
   },
   "cell_type": "code",
   "source": "data",
   "id": "5231106b736cb4ca",
   "outputs": [
    {
     "data": {
      "text/plain": [
       "           Date  DPRIME  Close/Last    Volume    Open       High      Low\n",
       "2515 2014-06-24    3.25      25.340    243530   25.52    25.9800   25.303\n",
       "2514 2014-06-25    3.25      25.270    491864   25.24    25.4900   24.570\n",
       "2513 2014-06-26    3.25      25.450    342669   26.00    26.0000   25.210\n",
       "2512 2014-06-27    3.25      24.690   1482237   25.24    25.4050   24.690\n",
       "2511 2014-06-30    3.25      25.270    648122   24.69    25.3900   24.610\n",
       "...         ...     ...         ...       ...     ...        ...      ...\n",
       "4    2024-06-14    8.50     844.540   6598781  846.93   872.0000  825.610\n",
       "3    2024-06-17    8.50     887.410   8911764  857.40   921.9100  828.090\n",
       "2    2024-06-18    8.50     920.010   8762073  897.00   938.8800  883.310\n",
       "1    2024-06-20    8.50     917.635  13432940  961.29  1014.0200  900.320\n",
       "0    2024-06-21    8.50     905.260   7465581  900.10   917.9499  863.220\n",
       "\n",
       "[2516 rows x 7 columns]"
      ],
      "text/html": [
       "<div>\n",
       "<style scoped>\n",
       "    .dataframe tbody tr th:only-of-type {\n",
       "        vertical-align: middle;\n",
       "    }\n",
       "\n",
       "    .dataframe tbody tr th {\n",
       "        vertical-align: top;\n",
       "    }\n",
       "\n",
       "    .dataframe thead th {\n",
       "        text-align: right;\n",
       "    }\n",
       "</style>\n",
       "<table border=\"1\" class=\"dataframe\">\n",
       "  <thead>\n",
       "    <tr style=\"text-align: right;\">\n",
       "      <th></th>\n",
       "      <th>Date</th>\n",
       "      <th>DPRIME</th>\n",
       "      <th>Close/Last</th>\n",
       "      <th>Volume</th>\n",
       "      <th>Open</th>\n",
       "      <th>High</th>\n",
       "      <th>Low</th>\n",
       "    </tr>\n",
       "  </thead>\n",
       "  <tbody>\n",
       "    <tr>\n",
       "      <th>2515</th>\n",
       "      <td>2014-06-24</td>\n",
       "      <td>3.25</td>\n",
       "      <td>25.340</td>\n",
       "      <td>243530</td>\n",
       "      <td>25.52</td>\n",
       "      <td>25.9800</td>\n",
       "      <td>25.303</td>\n",
       "    </tr>\n",
       "    <tr>\n",
       "      <th>2514</th>\n",
       "      <td>2014-06-25</td>\n",
       "      <td>3.25</td>\n",
       "      <td>25.270</td>\n",
       "      <td>491864</td>\n",
       "      <td>25.24</td>\n",
       "      <td>25.4900</td>\n",
       "      <td>24.570</td>\n",
       "    </tr>\n",
       "    <tr>\n",
       "      <th>2513</th>\n",
       "      <td>2014-06-26</td>\n",
       "      <td>3.25</td>\n",
       "      <td>25.450</td>\n",
       "      <td>342669</td>\n",
       "      <td>26.00</td>\n",
       "      <td>26.0000</td>\n",
       "      <td>25.210</td>\n",
       "    </tr>\n",
       "    <tr>\n",
       "      <th>2512</th>\n",
       "      <td>2014-06-27</td>\n",
       "      <td>3.25</td>\n",
       "      <td>24.690</td>\n",
       "      <td>1482237</td>\n",
       "      <td>25.24</td>\n",
       "      <td>25.4050</td>\n",
       "      <td>24.690</td>\n",
       "    </tr>\n",
       "    <tr>\n",
       "      <th>2511</th>\n",
       "      <td>2014-06-30</td>\n",
       "      <td>3.25</td>\n",
       "      <td>25.270</td>\n",
       "      <td>648122</td>\n",
       "      <td>24.69</td>\n",
       "      <td>25.3900</td>\n",
       "      <td>24.610</td>\n",
       "    </tr>\n",
       "    <tr>\n",
       "      <th>...</th>\n",
       "      <td>...</td>\n",
       "      <td>...</td>\n",
       "      <td>...</td>\n",
       "      <td>...</td>\n",
       "      <td>...</td>\n",
       "      <td>...</td>\n",
       "      <td>...</td>\n",
       "    </tr>\n",
       "    <tr>\n",
       "      <th>4</th>\n",
       "      <td>2024-06-14</td>\n",
       "      <td>8.50</td>\n",
       "      <td>844.540</td>\n",
       "      <td>6598781</td>\n",
       "      <td>846.93</td>\n",
       "      <td>872.0000</td>\n",
       "      <td>825.610</td>\n",
       "    </tr>\n",
       "    <tr>\n",
       "      <th>3</th>\n",
       "      <td>2024-06-17</td>\n",
       "      <td>8.50</td>\n",
       "      <td>887.410</td>\n",
       "      <td>8911764</td>\n",
       "      <td>857.40</td>\n",
       "      <td>921.9100</td>\n",
       "      <td>828.090</td>\n",
       "    </tr>\n",
       "    <tr>\n",
       "      <th>2</th>\n",
       "      <td>2024-06-18</td>\n",
       "      <td>8.50</td>\n",
       "      <td>920.010</td>\n",
       "      <td>8762073</td>\n",
       "      <td>897.00</td>\n",
       "      <td>938.8800</td>\n",
       "      <td>883.310</td>\n",
       "    </tr>\n",
       "    <tr>\n",
       "      <th>1</th>\n",
       "      <td>2024-06-20</td>\n",
       "      <td>8.50</td>\n",
       "      <td>917.635</td>\n",
       "      <td>13432940</td>\n",
       "      <td>961.29</td>\n",
       "      <td>1014.0200</td>\n",
       "      <td>900.320</td>\n",
       "    </tr>\n",
       "    <tr>\n",
       "      <th>0</th>\n",
       "      <td>2024-06-21</td>\n",
       "      <td>8.50</td>\n",
       "      <td>905.260</td>\n",
       "      <td>7465581</td>\n",
       "      <td>900.10</td>\n",
       "      <td>917.9499</td>\n",
       "      <td>863.220</td>\n",
       "    </tr>\n",
       "  </tbody>\n",
       "</table>\n",
       "<p>2516 rows × 7 columns</p>\n",
       "</div>"
      ]
     },
     "execution_count": 32,
     "metadata": {},
     "output_type": "execute_result"
    }
   ],
   "execution_count": 32
  },
  {
   "metadata": {
    "ExecuteTime": {
     "end_time": "2024-07-15T17:32:59.804433Z",
     "start_time": "2024-07-15T17:32:59.801545Z"
    }
   },
   "cell_type": "code",
   "source": [
    "# 2. Setup Variables\n",
    "# 2.1 Time horizon set to be 9 years for training, 1 year for validation\n",
    "# 2.2 time steps for LSTM\n",
    "time_steps = 90     # tested [30, 60, 90, 120], 90 is the most efficient one"
   ],
   "id": "c4fdd0a79a1db08d",
   "outputs": [],
   "execution_count": 33
  },
  {
   "cell_type": "code",
   "id": "0cbdb72d",
   "metadata": {
    "ExecuteTime": {
     "end_time": "2024-07-15T17:32:59.819371Z",
     "start_time": "2024-07-15T17:32:59.806617Z"
    }
   },
   "source": [
    "# 3. Data pre-processing\n",
    "scaler = MinMaxScaler(feature_range=(0, 1))\n",
    "\n",
    "# Normalize the 'Close/Last' column for both training and validation sets\n",
    "train_data = scaler.fit_transform(train_set['Close/Last'].values.reshape(-1, 1))\n",
    "valid_data = scaler.transform(valid_set['Close/Last'].values.reshape(-1, 1))\n",
    "\n",
    "# Initialize lists to store training and validation data\n",
    "x_train, y_train = [], []\n",
    "for i in range(time_steps, len(train_data)):\n",
    "    x_train.append(train_data[i-time_steps:i, 0])\n",
    "    y_train.append(train_data[i, 0])\n",
    "\n",
    "x_valid, y_valid = [], []\n",
    "for i in range(time_steps, len(valid_data)):\n",
    "    x_valid.append(valid_data[i-time_steps:i, 0])\n",
    "    y_valid.append(valid_data[i, 0])\n",
    "\n",
    "# Convert lists to numpy arrays\n",
    "x_train, y_train = np.array(x_train), np.array(y_train)\n",
    "x_train = np.reshape(x_train, (x_train.shape[0], x_train.shape[1], 1))\n",
    "x_valid, y_valid = np.array(x_valid), np.array(y_valid)\n",
    "x_valid = np.reshape(x_valid, (x_valid.shape[0], x_valid.shape[1], 1))\n"
   ],
   "outputs": [],
   "execution_count": 34
  },
  {
   "cell_type": "code",
   "id": "8c5c9382",
   "metadata": {
    "ExecuteTime": {
     "end_time": "2024-07-15T17:32:59.833078Z",
     "start_time": "2024-07-15T17:32:59.822143Z"
    }
   },
   "source": [
    "# 4. Build Model - function\n",
    "def build_model():\n",
    "    model = Sequential()\n",
    "    model.add(LSTM(units=50, return_sequences=True, input_shape=(time_steps, 1)))\n",
    "    model.add(Dropout(0.2))\n",
    "    model.add(LSTM(units=50, return_sequences=False))\n",
    "    model.add(Dropout(0.2))\n",
    "    model.add(Dense(units=1))\n",
    "    model.compile(optimizer='adam', loss='mean_squared_error')\n",
    "    return model"
   ],
   "outputs": [],
   "execution_count": 35
  },
  {
   "cell_type": "code",
   "id": "5db99227",
   "metadata": {
    "ExecuteTime": {
     "end_time": "2024-07-15T17:32:59.840023Z",
     "start_time": "2024-07-15T17:32:59.835562Z"
    }
   },
   "source": [
    "# 5. Training - Function\n",
    "def train_model(model, x_train, y_train):\n",
    "    model.fit(x_train, y_train, epochs=25, batch_size=32)"
   ],
   "outputs": [],
   "execution_count": 36
  },
  {
   "cell_type": "code",
   "id": "a25f0e47",
   "metadata": {
    "ExecuteTime": {
     "end_time": "2024-07-15T17:32:59.847866Z",
     "start_time": "2024-07-15T17:32:59.842987Z"
    }
   },
   "source": [
    "# 6. Make Prediction - Function\n",
    "def make_prediction(model, x_valid, scaler):\n",
    "    predictions = model.predict(x_valid)\n",
    "    predictions = scaler.inverse_transform(predictions)\n",
    "    return predictions"
   ],
   "outputs": [],
   "execution_count": 37
  },
  {
   "cell_type": "code",
   "id": "f32867f6",
   "metadata": {
    "scrolled": true,
    "ExecuteTime": {
     "end_time": "2024-07-15T17:34:37.557513Z",
     "start_time": "2024-07-15T17:32:59.850276Z"
    }
   },
   "source": [
    "# Execute step 4,5,6\n",
    "model = build_model()\n",
    "train_model(model, x_train, y_train)\n",
    "valid_preds = make_prediction(model, x_valid, scaler)"
   ],
   "outputs": [
    {
     "name": "stdout",
     "output_type": "stream",
     "text": [
      "Epoch 1/25\n"
     ]
    },
    {
     "name": "stderr",
     "output_type": "stream",
     "text": [
      "/Users/beilinye/Desktop/Spring_2024/SYDE_660a/6_Code/stock-prediction/.venv/lib/python3.10/site-packages/keras/src/layers/rnn/rnn.py:204: UserWarning: Do not pass an `input_shape`/`input_dim` argument to a layer. When using Sequential models, prefer using an `Input(shape)` object as the first layer in the model instead.\n",
      "  super().__init__(**kwargs)\n"
     ]
    },
    {
     "name": "stdout",
     "output_type": "stream",
     "text": [
      "\u001B[1m68/68\u001B[0m \u001B[32m━━━━━━━━━━━━━━━━━━━━\u001B[0m\u001B[37m\u001B[0m \u001B[1m5s\u001B[0m 48ms/step - loss: 0.0061\n",
      "Epoch 2/25\n",
      "\u001B[1m68/68\u001B[0m \u001B[32m━━━━━━━━━━━━━━━━━━━━\u001B[0m\u001B[37m\u001B[0m \u001B[1m3s\u001B[0m 49ms/step - loss: 9.5981e-04\n",
      "Epoch 3/25\n",
      "\u001B[1m68/68\u001B[0m \u001B[32m━━━━━━━━━━━━━━━━━━━━\u001B[0m\u001B[37m\u001B[0m \u001B[1m3s\u001B[0m 50ms/step - loss: 6.3109e-04\n",
      "Epoch 4/25\n",
      "\u001B[1m68/68\u001B[0m \u001B[32m━━━━━━━━━━━━━━━━━━━━\u001B[0m\u001B[37m\u001B[0m \u001B[1m3s\u001B[0m 41ms/step - loss: 4.0942e-04\n",
      "Epoch 5/25\n",
      "\u001B[1m68/68\u001B[0m \u001B[32m━━━━━━━━━━━━━━━━━━━━\u001B[0m\u001B[37m\u001B[0m \u001B[1m3s\u001B[0m 44ms/step - loss: 4.6180e-04\n",
      "Epoch 6/25\n",
      "\u001B[1m68/68\u001B[0m \u001B[32m━━━━━━━━━━━━━━━━━━━━\u001B[0m\u001B[37m\u001B[0m \u001B[1m4s\u001B[0m 62ms/step - loss: 4.7896e-04\n",
      "Epoch 7/25\n",
      "\u001B[1m68/68\u001B[0m \u001B[32m━━━━━━━━━━━━━━━━━━━━\u001B[0m\u001B[37m\u001B[0m \u001B[1m4s\u001B[0m 53ms/step - loss: 3.4400e-04\n",
      "Epoch 8/25\n",
      "\u001B[1m68/68\u001B[0m \u001B[32m━━━━━━━━━━━━━━━━━━━━\u001B[0m\u001B[37m\u001B[0m \u001B[1m3s\u001B[0m 45ms/step - loss: 4.3266e-04\n",
      "Epoch 9/25\n",
      "\u001B[1m68/68\u001B[0m \u001B[32m━━━━━━━━━━━━━━━━━━━━\u001B[0m\u001B[37m\u001B[0m \u001B[1m4s\u001B[0m 60ms/step - loss: 3.5764e-04\n",
      "Epoch 10/25\n",
      "\u001B[1m68/68\u001B[0m \u001B[32m━━━━━━━━━━━━━━━━━━━━\u001B[0m\u001B[37m\u001B[0m \u001B[1m5s\u001B[0m 66ms/step - loss: 5.3960e-04\n",
      "Epoch 11/25\n",
      "\u001B[1m68/68\u001B[0m \u001B[32m━━━━━━━━━━━━━━━━━━━━\u001B[0m\u001B[37m\u001B[0m \u001B[1m5s\u001B[0m 79ms/step - loss: 4.8826e-04\n",
      "Epoch 12/25\n",
      "\u001B[1m68/68\u001B[0m \u001B[32m━━━━━━━━━━━━━━━━━━━━\u001B[0m\u001B[37m\u001B[0m \u001B[1m5s\u001B[0m 69ms/step - loss: 4.6402e-04\n",
      "Epoch 13/25\n",
      "\u001B[1m68/68\u001B[0m \u001B[32m━━━━━━━━━━━━━━━━━━━━\u001B[0m\u001B[37m\u001B[0m \u001B[1m4s\u001B[0m 59ms/step - loss: 2.6946e-04\n",
      "Epoch 14/25\n",
      "\u001B[1m68/68\u001B[0m \u001B[32m━━━━━━━━━━━━━━━━━━━━\u001B[0m\u001B[37m\u001B[0m \u001B[1m5s\u001B[0m 70ms/step - loss: 5.1939e-04\n",
      "Epoch 15/25\n",
      "\u001B[1m68/68\u001B[0m \u001B[32m━━━━━━━━━━━━━━━━━━━━\u001B[0m\u001B[37m\u001B[0m \u001B[1m4s\u001B[0m 58ms/step - loss: 3.6628e-04\n",
      "Epoch 16/25\n",
      "\u001B[1m68/68\u001B[0m \u001B[32m━━━━━━━━━━━━━━━━━━━━\u001B[0m\u001B[37m\u001B[0m \u001B[1m4s\u001B[0m 60ms/step - loss: 5.4059e-04\n",
      "Epoch 17/25\n",
      "\u001B[1m68/68\u001B[0m \u001B[32m━━━━━━━━━━━━━━━━━━━━\u001B[0m\u001B[37m\u001B[0m \u001B[1m4s\u001B[0m 54ms/step - loss: 3.1966e-04\n",
      "Epoch 18/25\n",
      "\u001B[1m68/68\u001B[0m \u001B[32m━━━━━━━━━━━━━━━━━━━━\u001B[0m\u001B[37m\u001B[0m \u001B[1m4s\u001B[0m 57ms/step - loss: 2.6392e-04\n",
      "Epoch 19/25\n",
      "\u001B[1m68/68\u001B[0m \u001B[32m━━━━━━━━━━━━━━━━━━━━\u001B[0m\u001B[37m\u001B[0m \u001B[1m4s\u001B[0m 62ms/step - loss: 4.2975e-04\n",
      "Epoch 20/25\n",
      "\u001B[1m68/68\u001B[0m \u001B[32m━━━━━━━━━━━━━━━━━━━━\u001B[0m\u001B[37m\u001B[0m \u001B[1m4s\u001B[0m 58ms/step - loss: 2.5669e-04\n",
      "Epoch 21/25\n",
      "\u001B[1m68/68\u001B[0m \u001B[32m━━━━━━━━━━━━━━━━━━━━\u001B[0m\u001B[37m\u001B[0m \u001B[1m3s\u001B[0m 40ms/step - loss: 2.6709e-04\n",
      "Epoch 22/25\n",
      "\u001B[1m68/68\u001B[0m \u001B[32m━━━━━━━━━━━━━━━━━━━━\u001B[0m\u001B[37m\u001B[0m \u001B[1m3s\u001B[0m 47ms/step - loss: 3.3331e-04\n",
      "Epoch 23/25\n",
      "\u001B[1m68/68\u001B[0m \u001B[32m━━━━━━━━━━━━━━━━━━━━\u001B[0m\u001B[37m\u001B[0m \u001B[1m4s\u001B[0m 57ms/step - loss: 3.3994e-04\n",
      "Epoch 24/25\n",
      "\u001B[1m68/68\u001B[0m \u001B[32m━━━━━━━━━━━━━━━━━━━━\u001B[0m\u001B[37m\u001B[0m \u001B[1m4s\u001B[0m 54ms/step - loss: 2.5001e-04\n",
      "Epoch 25/25\n",
      "\u001B[1m68/68\u001B[0m \u001B[32m━━━━━━━━━━━━━━━━━━━━\u001B[0m\u001B[37m\u001B[0m \u001B[1m4s\u001B[0m 56ms/step - loss: 2.6657e-04\n",
      "\u001B[1m13/13\u001B[0m \u001B[32m━━━━━━━━━━━━━━━━━━━━\u001B[0m\u001B[37m\u001B[0m \u001B[1m1s\u001B[0m 31ms/step\n"
     ]
    }
   ],
   "execution_count": 38
  },
  {
   "cell_type": "code",
   "id": "43e1f87a",
   "metadata": {
    "scrolled": false,
    "ExecuteTime": {
     "end_time": "2024-07-15T17:34:37.848120Z",
     "start_time": "2024-07-15T17:34:37.562257Z"
    }
   },
   "source": [
    "# 7. Print & Visualize the results\n",
    "valid_rmse = np.sqrt(mean_squared_error(valid_set['Close/Last'].values[time_steps:], valid_preds))\n",
    "print(f\"LSTM RMSE on validation set: {valid_rmse}\")\n",
    "\n",
    "plt.figure(figsize=(14, 7))\n",
    "plt.plot(train_set['Date'], train_set['Close/Last'], label='Training Data')\n",
    "plt.plot(valid_set['Date'][time_steps:], valid_set['Close/Last'].values[time_steps:], label='Validation Data')\n",
    "plt.plot(valid_set['Date'][time_steps:], valid_preds, label='Validation Predictions')\n",
    "plt.xlabel('Date')\n",
    "plt.ylabel('Stock Price')\n",
    "plt.title('Stock Price Prediction with LSTM')\n",
    "plt.legend()\n",
    "plt.show()"
   ],
   "outputs": [
    {
     "name": "stdout",
     "output_type": "stream",
     "text": [
      "LSTM RMSE on validation set: 131.06099203978968\n"
     ]
    },
    {
     "data": {
      "text/plain": [
       "<Figure size 1400x700 with 1 Axes>"
      ],
      "image/png": "[encoded data removed]"
     },
     "metadata": {},
     "output_type": "display_data"
    }
   ],
   "execution_count": 39
  }
 ],
 "metadata": {
  "kernelspec": {
   "display_name": "Python 3 (ipykernel)",
   "language": "python",
   "name": "python3"
  },
  "language_info": {
   "codemirror_mode": {
    "name": "ipython",
    "version": 3
   },
   "file_extension": ".py",
   "mimetype": "text/x-python",
   "name": "python",
   "nbconvert_exporter": "python",
   "pygments_lexer": "ipython3",
   "version": "3.11.5"
  }
 },
 "nbformat": 4,
 "nbformat_minor": 5
}
