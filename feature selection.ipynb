{
 "cells": [
  {
   "cell_type": "markdown",
   "id": "1ee67105",
   "metadata": {},
   "source": [
    "**划分数据集，构建滞后特征, 并在训练集上进行特征选择**"
   ]
  },
  {
   "cell_type": "markdown",
   "id": "67e3141a",
   "metadata": {},
   "source": [
    "例如，使用 5 天的滞后特征，并且有 6 个原始特征，\n",
    "则滞后特征的总数量就是 5 天 * 6 个特征 = 30 个滞后特征"
   ]
  },
  {
   "cell_type": "code",
   "execution_count": 2,
   "id": "08979023",
   "metadata": {},
   "outputs": [
    {
     "name": "stdout",
     "output_type": "stream",
     "text": [
      "train set: (2008, 30) (2008,)\n",
      "test set: (503, 30) (503,)\n"
     ]
    }
   ],
   "source": [
    "import pandas as pd\n",
    "from sklearn.model_selection import train_test_split\n",
    "from sklearn.preprocessing import StandardScaler\n",
    "\n",
    "# 读取数据\n",
    "data = pd.read_csv('data/smci_sorted.csv')\n",
    "features = ['DPRIME', 'Close','Volume', 'Open','High', 'Low']\n",
    "target = 'Close'\n",
    "\n",
    "# 创建滞后特征\n",
    "def create_lag_features(data, features, lag=5):\n",
    "    for feature in features:\n",
    "        for i in range(1, lag + 1):\n",
    "            data[f'{feature}_lag_{i}'] = data[feature].shift(i)\n",
    "    return data\n",
    "\n",
    "# 构建滞后特征\n",
    "data_lagged = create_lag_features(data, features, lag=5)\n",
    "\n",
    "# 去除NA值\n",
    "data_lagged = data_lagged.dropna()\n",
    "\n",
    "# 定义特征和目标变量\n",
    "X = data_lagged[[f'{feature}_lag_{i}' for feature in features for i in range(1, 6)]]\n",
    "y = data_lagged[target]\n",
    "\n",
    "# 数据标准化\n",
    "scaler = StandardScaler()\n",
    "X_scaled = scaler.fit_transform(X)\n",
    "\n",
    "# 按时间顺序划分数据集\n",
    "train_size = int(len(X_scaled) * 0.8)\n",
    "X_train, X_test = X_scaled[:train_size], X_scaled[train_size:]\n",
    "y_train, y_test = y[:train_size], y[train_size:]\n",
    "\n",
    "# 输出数据集大小\n",
    "print(\"train set:\", X_train.shape, y_train.shape)\n",
    "print(\"test set:\", X_test.shape, y_test.shape)"
   ]
  },
  {
   "cell_type": "markdown",
   "id": "bc18ae28",
   "metadata": {},
   "source": [
    "**相关性分析：选择与目标变量相关性绝对值大于0.3的特征**"
   ]
  },
  {
   "cell_type": "code",
   "execution_count": 3,
   "id": "f8801739",
   "metadata": {},
   "outputs": [
    {
     "name": "stdout",
     "output_type": "stream",
     "text": [
      "每个特征的相关性评分:\n",
      "Close_lag_5     1.000000\n",
      "target          1.000000\n",
      "Open_lag_4      0.998130\n",
      "High_lag_5      0.997993\n",
      "Low_lag_5       0.997908\n",
      "Open_lag_5      0.995688\n",
      "High_lag_4      0.995570\n",
      "Low_lag_4       0.995167\n",
      "Close_lag_4     0.992954\n",
      "Open_lag_3      0.990942\n",
      "Low_lag_3       0.988356\n",
      "High_lag_3      0.987952\n",
      "Close_lag_3     0.986128\n",
      "Open_lag_2      0.984013\n",
      "Low_lag_2       0.981704\n",
      "High_lag_2      0.981302\n",
      "Close_lag_2     0.979586\n",
      "Open_lag_1      0.977618\n",
      "Low_lag_1       0.975120\n",
      "High_lag_1      0.974737\n",
      "Close_lag_1     0.972893\n",
      "DPRIME_lag_5    0.640535\n",
      "DPRIME_lag_4    0.639053\n",
      "DPRIME_lag_3    0.638083\n",
      "DPRIME_lag_2    0.635972\n",
      "DPRIME_lag_1    0.633663\n",
      "Volume_lag_5    0.056832\n",
      "Volume_lag_4    0.038395\n",
      "Volume_lag_3    0.036261\n",
      "Volume_lag_2    0.032699\n",
      "Volume_lag_1    0.028307\n",
      "Name: target, dtype: float64\n",
      "重要特征（相关性分析）: ['Close_lag_5', 'Open_lag_4', 'High_lag_5', 'Low_lag_5', 'Open_lag_5', 'High_lag_4', 'Low_lag_4', 'Close_lag_4', 'Open_lag_3', 'Low_lag_3', 'High_lag_3', 'Close_lag_3', 'Open_lag_2', 'Low_lag_2', 'High_lag_2', 'Close_lag_2', 'Open_lag_1', 'Low_lag_1', 'High_lag_1', 'Close_lag_1', 'DPRIME_lag_5', 'DPRIME_lag_4', 'DPRIME_lag_3', 'DPRIME_lag_2', 'DPRIME_lag_1']\n"
     ]
    }
   ],
   "source": [
    "# 计算相关性矩阵\n",
    "correlation_matrix = pd.DataFrame(X_train, columns=[f'{feature}_lag_{i}' for feature in features for i in range(1, 6)]).assign(target=y_train).corr()\n",
    "correlations = correlation_matrix['target'].abs().sort_values(ascending=False)\n",
    "selected_features_corr = correlations[correlations > 0.3].index.drop('target').tolist()\n",
    "print(\"每个特征的相关性评分:\")\n",
    "print(correlations)\n",
    "print(\"重要特征（相关性分析）:\", selected_features_corr)"
   ]
  },
  {
   "cell_type": "markdown",
   "id": "61f0b7ac",
   "metadata": {},
   "source": [
    "**递归特征消除（RFE）：选择RFE标记为True的特征** "
   ]
  },
  {
   "cell_type": "code",
   "execution_count": 4,
   "id": "f08ff6ff",
   "metadata": {},
   "outputs": [
    {
     "name": "stdout",
     "output_type": "stream",
     "text": [
      "每个特征的RFE评分（排名）:\n",
      "{'DPRIME_lag_1': 16, 'Close_lag_1': 13, 'Volume_lag_1': 12, 'Open_lag_1': 14, 'High_lag_1': 15, 'Low_lag_1': 1, 'DPRIME_lag_2': 1, 'Close_lag_2': 1, 'Volume_lag_2': 5, 'Open_lag_2': 6, 'High_lag_2': 19, 'Low_lag_2': 20, 'DPRIME_lag_3': 18, 'Close_lag_3': 17, 'Volume_lag_3': 21, 'Open_lag_3': 3, 'High_lag_3': 11, 'Low_lag_3': 1, 'DPRIME_lag_4': 1, 'Close_lag_4': 8, 'Volume_lag_4': 2, 'Open_lag_4': 1, 'High_lag_4': 1, 'Low_lag_4': 1, 'DPRIME_lag_5': 7, 'Close_lag_5': 1, 'Volume_lag_5': 10, 'Open_lag_5': 1, 'High_lag_5': 9, 'Low_lag_5': 4}\n",
      "重要特征（RFE）: ['Close_lag_1', 'Low_lag_1', 'Close_lag_2', 'High_lag_2', 'Close_lag_3', 'Open_lag_3', 'High_lag_3', 'Low_lag_3', 'Open_lag_4', 'High_lag_4']\n"
     ]
    }
   ],
   "source": [
    "from sklearn.feature_selection import RFE\n",
    "from sklearn.linear_model import LinearRegression\n",
    "import numpy as np\n",
    "\n",
    "# 递归特征消除\n",
    "model = LinearRegression()\n",
    "rfe = RFE(model, n_features_to_select=10)  # 假设选择10个最重要的特征\n",
    "fit = rfe.fit(X_train, y_train)\n",
    "\n",
    "rfe_support = fit.support_\n",
    "rfe_ranking = fit.ranking_\n",
    "\n",
    "selected_features_rfe = [f'{feature}_lag_{i}' for i in range(1, 6) for feature in features if fit.support_[features.index(feature) * 5 + i - 1]]\n",
    "rfe_scores = dict(zip([f'{feature}_lag_{i}' for i in range(1, 6) for feature in features], rfe_ranking))\n",
    "\n",
    "print(\"每个特征的RFE评分（排名）:\")\n",
    "print(rfe_scores)\n",
    "print(\"重要特征（RFE）:\", selected_features_rfe)\n"
   ]
  },
  {
   "cell_type": "markdown",
   "id": "4ac63f12",
   "metadata": {},
   "source": [
    "**L1正则化（Lasso）：选择Lasso回归选择的特征** "
   ]
  },
  {
   "cell_type": "code",
   "execution_count": 5,
   "id": "281cf9ec",
   "metadata": {},
   "outputs": [
    {
     "name": "stdout",
     "output_type": "stream",
     "text": [
      "每个特征的Lasso评分（系数）:\n",
      "{'DPRIME_lag_1': -0.0, 'Close_lag_1': -0.0, 'Volume_lag_1': -0.0, 'Open_lag_1': -0.6184330844549351, 'High_lag_1': -0.0, 'Low_lag_1': 130.81290088313614, 'DPRIME_lag_2': 0.0, 'Close_lag_2': 0.0, 'Volume_lag_2': 0.0, 'Open_lag_2': 0.0, 'High_lag_2': 0.0, 'Low_lag_2': 0.0, 'DPRIME_lag_3': -0.0, 'Close_lag_3': 0.0, 'Volume_lag_3': -0.0, 'Open_lag_3': 0.0, 'High_lag_3': 0.0, 'Low_lag_3': 0.0, 'DPRIME_lag_4': 0.0, 'Close_lag_4': 0.0, 'Volume_lag_4': 0.0, 'Open_lag_4': 0.0, 'High_lag_4': 0.0, 'Low_lag_4': 0.0, 'DPRIME_lag_5': 0.0, 'Close_lag_5': 33.40320159196775, 'Volume_lag_5': 0.0, 'Open_lag_5': 0.0, 'High_lag_5': 0.0, 'Low_lag_5': 0.0}\n",
      "重要特征（Lasso）: ['Close_lag_1', 'Low_lag_1', 'DPRIME_lag_4']\n"
     ]
    }
   ],
   "source": [
    "from sklearn.linear_model import Lasso\n",
    "from sklearn.feature_selection import SelectFromModel\n",
    "\n",
    "# 使用Lasso进行特征选择\n",
    "lasso = Lasso(alpha=0.01)\n",
    "lasso.fit(X_train, y_train)\n",
    "\n",
    "model = SelectFromModel(lasso, prefit=True)\n",
    "lasso_support = model.get_support()\n",
    "lasso_coefficients = lasso.coef_\n",
    "\n",
    "selected_features_lasso = [f'{feature}_lag_{i}' for i in range(1, 6) for feature in features if lasso_support[features.index(feature) * 5 + i - 1]]\n",
    "lasso_scores = dict(zip([f'{feature}_lag_{i}' for i in range(1, 6) for feature in features], lasso_coefficients))\n",
    "\n",
    "print(\"每个特征的Lasso评分（系数）:\")\n",
    "print(lasso_scores)\n",
    "print(\"重要特征（Lasso）:\", selected_features_lasso)\n"
   ]
  },
  {
   "cell_type": "code",
   "execution_count": null,
   "id": "3f38045a",
   "metadata": {},
   "outputs": [],
   "source": []
  }
 ],
 "metadata": {
  "kernelspec": {
   "display_name": "Python 3 (ipykernel)",
   "language": "python",
   "name": "python3"
  },
  "language_info": {
   "codemirror_mode": {
    "name": "ipython",
    "version": 3
   },
   "file_extension": ".py",
   "mimetype": "text/x-python",
   "name": "python",
   "nbconvert_exporter": "python",
   "pygments_lexer": "ipython3",
   "version": "3.11.5"
  }
 },
 "nbformat": 4,
 "nbformat_minor": 5
}
