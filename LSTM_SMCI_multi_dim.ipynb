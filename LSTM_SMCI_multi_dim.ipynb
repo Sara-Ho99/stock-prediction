{
 "cells": [
  {
   "cell_type": "code",
   "id": "e2335a3b",
   "metadata": {
    "ExecuteTime": {
     "end_time": "2024-07-04T18:37:51.866688Z",
     "start_time": "2024-07-04T18:37:48.264946Z"
    }
   },
   "source": [
    "import pandas as pd\n",
    "import tensorflow as tf\n"
   ],
   "outputs": [],
   "execution_count": 2
  },
  {
   "cell_type": "code",
   "id": "c6ddb23b",
   "metadata": {
    "ExecuteTime": {
     "end_time": "2024-07-04T18:37:51.877764Z",
     "start_time": "2024-07-04T18:37:51.867671Z"
    }
   },
   "source": [
    "# 检查数据\n",
    "# def check_data(data):\n",
    "#     print(\"数据的前几行：\")\n",
    "#     display(data.head())\n",
    "#     print(\"\\n数据的信息：\")\n",
    "#     data.info()\n",
    "#     print(\"\\n数据是否有缺失值：\")\n",
    "#     print(data.isnull().sum())\n",
    "#     print(\"\\n数据的描述统计信息：\")\n",
    "#     display(data.describe())\n",
    "\n",
    "file_path = './data/SMCI.csv'\n",
    "data_close = pd.read_csv(file_path)\n",
    "# check_data(data)"
   ],
   "outputs": [],
   "execution_count": 3
  },
  {
   "metadata": {
    "ExecuteTime": {
     "end_time": "2024-07-04T18:37:51.883364Z",
     "start_time": "2024-07-04T18:37:51.878378Z"
    }
   },
   "cell_type": "code",
   "source": [
    "# 读取数据\n",
    "file_path_IR = './data/IR_daily.csv'\n",
    "data_IR = pd.read_csv(file_path_IR)"
   ],
   "id": "9dd2501690961cab",
   "outputs": [],
   "execution_count": 4
  },
  {
   "metadata": {
    "ExecuteTime": {
     "end_time": "2024-07-04T18:37:51.887521Z",
     "start_time": "2024-07-04T18:37:51.885156Z"
    }
   },
   "cell_type": "code",
   "source": [
    "print(data_IR.shape)\n",
    "print(data_close.shape)"
   ],
   "id": "b3ba5a091fd1f5c6",
   "outputs": [
    {
     "name": "stdout",
     "output_type": "stream",
     "text": [
      "(2609, 2)\n",
      "(2516, 6)\n"
     ]
    }
   ],
   "execution_count": 5
  },
  {
   "metadata": {
    "ExecuteTime": {
     "end_time": "2024-07-04T18:37:51.898316Z",
     "start_time": "2024-07-04T18:37:51.888230Z"
    }
   },
   "cell_type": "code",
   "source": [
    "# 处理DPRIME列中的缺失数据\n",
    "for idx, value in data_IR['DPRIME'].items():\n",
    "    if value == '.':\n",
    "        # 寻找上一格和下一格的索引\n",
    "        if idx > 0:\n",
    "            prev_idx = idx - 1\n",
    "        else:\n",
    "            prev_idx = idx\n",
    "        \n",
    "        if idx < len(data_IR) - 1:\n",
    "            next_idx = idx + 1\n",
    "        else:\n",
    "            next_idx = idx\n",
    "        \n",
    "        # 计算平均值并填充\n",
    "        if data_IR.at[prev_idx, 'DPRIME'] != '.' and data_IR.at[next_idx, 'DPRIME'] != '.':\n",
    "            avg_value = (float(data_IR.at[prev_idx, 'DPRIME']) + float(data_IR.at[next_idx, 'DPRIME'])) / 2\n",
    "            formatted_avg_value = f'{avg_value:.2f}'\n",
    "            data_IR.at[idx, 'DPRIME'] = formatted_avg_value\n"
   ],
   "id": "e1cd7af61e54730b",
   "outputs": [],
   "execution_count": 6
  },
  {
   "cell_type": "code",
   "id": "1ba82ce2",
   "metadata": {
    "ExecuteTime": {
     "end_time": "2024-07-04T18:37:52.702901Z",
     "start_time": "2024-07-04T18:37:51.900729Z"
    }
   },
   "source": [
    "import numpy as np\n",
    "from sklearn.linear_model import LinearRegression\n",
    "from sklearn.metrics import mean_squared_error\n",
    "import datetime as dt\n",
    "import matplotlib.pyplot as plt"
   ],
   "outputs": [],
   "execution_count": 7
  },
  {
   "cell_type": "code",
   "id": "749387bb",
   "metadata": {
    "ExecuteTime": {
     "end_time": "2024-07-04T18:37:52.714474Z",
     "start_time": "2024-07-04T18:37:52.703620Z"
    }
   },
   "source": [
    "# 目前用的是tensorflow\n",
    "from sklearn.preprocessing import MinMaxScaler\n",
    "from tensorflow.keras.models import Sequential\n",
    "from tensorflow.keras.layers import LSTM, Dense, Dropout"
   ],
   "outputs": [],
   "execution_count": 8
  },
  {
   "metadata": {
    "ExecuteTime": {
     "end_time": "2024-07-04T18:37:52.717531Z",
     "start_time": "2024-07-04T18:37:52.715170Z"
    }
   },
   "cell_type": "code",
   "source": "# data_close",
   "id": "8e69acc9d26015d1",
   "outputs": [],
   "execution_count": 9
  },
  {
   "cell_type": "code",
   "id": "09dd4872",
   "metadata": {
    "ExecuteTime": {
     "end_time": "2024-07-04T18:37:52.726278Z",
     "start_time": "2024-07-04T18:37:52.718340Z"
    }
   },
   "source": [
    "# Remove dollar signs and convert to float for specified columns\n",
    "columns_to_convert = ['Close/Last', 'Open', 'High', 'Low']\n",
    "for column in columns_to_convert:\n",
    "    data_close[column] = data_close[column].str.replace('$', '').str.replace(',', '').astype(float)"
   ],
   "outputs": [],
   "execution_count": 10
  },
  {
   "metadata": {
    "ExecuteTime": {
     "end_time": "2024-07-04T18:37:52.730993Z",
     "start_time": "2024-07-04T18:37:52.728692Z"
    }
   },
   "cell_type": "code",
   "source": [
    "# Variables\n",
    "# Time horizon set to be 9 years for training, 1 year for validation\n",
    "\n",
    "time_steps = 90     # tested [30, 60, 90, 120], 90 is the most efficient one\n",
    "\n",
    "\n",
    "# Feature\n",
    "all_features = ['Close/Last', 'Volume', 'Open', 'High', 'Low', 'DPRIME']\n",
    "selected_features = ['Close/Last']\n",
    "num_features = len(selected_features)"
   ],
   "id": "c4fdd0a79a1db08d",
   "outputs": [],
   "execution_count": 11
  },
  {
   "cell_type": "code",
   "id": "0cbdb72d",
   "metadata": {
    "ExecuteTime": {
     "end_time": "2024-07-04T18:37:52.734928Z",
     "start_time": "2024-07-04T18:37:52.732548Z"
    }
   },
   "source": "# Data Preprocessing",
   "outputs": [],
   "execution_count": 12
  },
  {
   "metadata": {
    "ExecuteTime": {
     "end_time": "2024-07-04T18:37:52.737922Z",
     "start_time": "2024-07-04T18:37:52.735942Z"
    }
   },
   "cell_type": "code",
   "source": "# Prepare the complete dataset, called \"merged_data\"",
   "id": "298a06b1c36572aa",
   "outputs": [],
   "execution_count": 13
  },
  {
   "metadata": {
    "ExecuteTime": {
     "end_time": "2024-07-04T18:37:52.747610Z",
     "start_time": "2024-07-04T18:37:52.738946Z"
    }
   },
   "cell_type": "code",
   "source": [
    "# 1. Convert 'Date' columns to datetime\n",
    "data_close['Date'] = pd.to_datetime(data_close['Date'])\n",
    "data_IR['Date'] = pd.to_datetime(data_IR['DATE'])  # 确保 'DATE' 列名正确\n",
    "\n",
    "# # 2. Merge based on 'Date' column\n",
    "# merged_data = pd.merge(data_close, data_IR[['Date', 'DPRIME']], on='Date', how='inner')\n",
    "# \n",
    "# # 3. Print the merged data to check alignment\n",
    "# print(\"Merged Data:\")\n",
    "# print(merged_data.head())\n",
    "# \n",
    "# # 4. Check for any missing data after merge\n",
    "# missing_data = merged_data[merged_data.isnull().any(axis=1)]\n",
    "# if not missing_data.empty:\n",
    "#     print(\"There are rows with mismatched dates:\")\n",
    "#     print(missing_data)\n",
    "# else:\n",
    "#     print(\"All dates in the data are aligned correctly.\")"
   ],
   "id": "54ddaa3e36c0f0ef",
   "outputs": [],
   "execution_count": 14
  },
  {
   "metadata": {
    "ExecuteTime": {
     "end_time": "2024-07-04T18:37:52.750809Z",
     "start_time": "2024-07-04T18:37:52.748749Z"
    }
   },
   "cell_type": "code",
   "source": "merged_data = data_close",
   "id": "269c57d82feeaf50",
   "outputs": [],
   "execution_count": 15
  },
  {
   "metadata": {
    "ExecuteTime": {
     "end_time": "2024-07-04T18:37:52.754030Z",
     "start_time": "2024-07-04T18:37:52.751664Z"
    }
   },
   "cell_type": "code",
   "source": "# Split the merged data into training and validation",
   "id": "c663c55b115789ef",
   "outputs": [],
   "execution_count": 16
  },
  {
   "metadata": {
    "ExecuteTime": {
     "end_time": "2024-07-04T18:37:52.785055Z",
     "start_time": "2024-07-04T18:37:52.754765Z"
    }
   },
   "cell_type": "code",
   "source": [
    "# Filter date range on merged_data and select specific features for train_set and valid_set\n",
    "train_set = merged_data.loc[(merged_data['Date'] >= '2014-06-24') & (merged_data['Date'] < '2023-06-24'), ['Date'] + selected_features].copy()\n",
    "valid_set = merged_data.loc[(merged_data['Date'] >= '2023-06-25') & (merged_data['Date'] < '2024-06-21'), ['Date'] + selected_features].copy()\n",
    "\n",
    "train_set['Date'] = pd.to_datetime(train_set['Date'])\n",
    "valid_set['Date'] = pd.to_datetime(valid_set['Date'])\n",
    "\n",
    "print(\"Training Set:\")\n",
    "print(train_set.head())\n",
    "\n",
    "print(\"\\nValidation Set:\")\n",
    "print(valid_set.head())\n"
   ],
   "id": "17f15952394444b6",
   "outputs": [
    {
     "name": "stdout",
     "output_type": "stream",
     "text": [
      "Training Set:\n",
      "          Date  Close/Last\n",
      "250 2023-06-23      216.06\n",
      "251 2023-06-22      226.46\n",
      "252 2023-06-21      219.91\n",
      "253 2023-06-20      222.40\n",
      "254 2023-06-16      230.77\n",
      "\n",
      "Validation Set:\n",
      "        Date  Close/Last\n",
      "1 2024-06-20     917.635\n",
      "2 2024-06-18     920.010\n",
      "3 2024-06-17     887.410\n",
      "4 2024-06-14     844.540\n",
      "5 2024-06-13     871.100\n"
     ]
    }
   ],
   "execution_count": 17
  },
  {
   "metadata": {
    "ExecuteTime": {
     "end_time": "2024-07-04T18:37:52.797149Z",
     "start_time": "2024-07-04T18:37:52.790389Z"
    }
   },
   "cell_type": "code",
   "source": "# Scaling the datasets, using MinMaxScaler",
   "id": "9fac48b2fcdbb034",
   "outputs": [],
   "execution_count": 18
  },
  {
   "metadata": {
    "ExecuteTime": {
     "end_time": "2024-07-04T18:37:52.823301Z",
     "start_time": "2024-07-04T18:37:52.801114Z"
    }
   },
   "cell_type": "code",
   "source": [
    "scaler = MinMaxScaler(feature_range=(0, 1))\n",
    "\n",
    "train_data = scaler.fit_transform(train_set[selected_features].values)\n",
    "valid_data = scaler.transform(valid_set[selected_features].values)\n",
    "\n",
    "x_train, y_train = [], []\n",
    "for i in range(time_steps, len(train_data)):\n",
    "    x_train.append(train_data[i-time_steps:i, :])\n",
    "    y_train.append(train_data[i, 0])  # Only keep the first column as label\n",
    "\n",
    "x_valid, y_valid = [], []\n",
    "for i in range(time_steps, len(valid_data)):\n",
    "    x_valid.append(valid_data[i-time_steps:i, :])\n",
    "    y_valid.append(valid_data[i, 0])  # Only keep the first column as label\n",
    "\n",
    "x_train, y_train = np.array(x_train), np.array(y_train)\n",
    "x_valid, y_valid = np.array(x_valid), np.array(y_valid)\n",
    "\n",
    "x_train = np.reshape(x_train, (x_train.shape[0], x_train.shape[1], len(selected_features)))\n",
    "x_valid = np.reshape(x_valid, (x_valid.shape[0], x_valid.shape[1], len(selected_features)))\n",
    "\n",
    "# # Print the shapes of the processed data\n",
    "# print(f\"x_train shape: {x_train.shape}\")\n",
    "# print(f\"y_train shape: {y_train.shape}\")\n",
    "# print(f\"x_valid shape: {x_valid.shape}\")\n",
    "# print(f\"y_valid shape: {y_valid.shape}\")\n"
   ],
   "id": "8d200d27876586e7",
   "outputs": [],
   "execution_count": 19
  },
  {
   "metadata": {
    "ExecuteTime": {
     "end_time": "2024-07-04T18:39:17.997777Z",
     "start_time": "2024-07-04T18:39:17.990161Z"
    }
   },
   "cell_type": "code",
   "source": [
    "print(train_set.shape)\n",
    "print(valid_set.shape)"
   ],
   "id": "817c925fbb726e17",
   "outputs": [
    {
     "name": "stdout",
     "output_type": "stream",
     "text": [
      "(2266, 2)\n",
      "(249, 2)\n"
     ]
    }
   ],
   "execution_count": 27
  },
  {
   "cell_type": "code",
   "id": "8c5c9382",
   "metadata": {
    "ExecuteTime": {
     "end_time": "2024-07-04T18:37:52.838259Z",
     "start_time": "2024-07-04T18:37:52.835037Z"
    }
   },
   "source": [
    "# 调参：LSTM模型\n",
    "def build_model(time_steps, num_features):\n",
    "    model = Sequential()\n",
    "    model.add(LSTM(units=50, return_sequences=True, input_shape=(time_steps, num_features)))\n",
    "    model.add(Dropout(0.2))\n",
    "    model.add(LSTM(units=50, return_sequences=False))\n",
    "    model.add(Dropout(0.2))\n",
    "    model.add(Dense(units=1))\n",
    "    model.compile(optimizer='adam', loss='mean_squared_error')\n",
    "    return model"
   ],
   "outputs": [],
   "execution_count": 21
  },
  {
   "cell_type": "code",
   "id": "5db99227",
   "metadata": {
    "ExecuteTime": {
     "end_time": "2024-07-04T18:37:52.841035Z",
     "start_time": "2024-07-04T18:37:52.838967Z"
    }
   },
   "source": [
    "# 调参：训练模型\n",
    "def train_model(model, x_train, y_train):\n",
    "    model.fit(x_train, y_train, epochs=25, batch_size=32)"
   ],
   "outputs": [],
   "execution_count": 22
  },
  {
   "cell_type": "code",
   "id": "a25f0e47",
   "metadata": {
    "ExecuteTime": {
     "end_time": "2024-07-04T18:37:52.844470Z",
     "start_time": "2024-07-04T18:37:52.841634Z"
    }
   },
   "source": [
    "# 预测函数\n",
    "\n",
    "@tf.function(reduce_retracing=True)\n",
    "def make_prediction(model, x_valid):\n",
    "    return model(x_valid, training=False)"
   ],
   "outputs": [],
   "execution_count": 23
  },
  {
   "cell_type": "code",
   "id": "f32867f6",
   "metadata": {
    "scrolled": true,
    "ExecuteTime": {
     "end_time": "2024-07-04T18:38:40.087287Z",
     "start_time": "2024-07-04T18:37:52.845185Z"
    }
   },
   "source": [
    "# 构建模型\n",
    "model = build_model(time_steps, num_features=num_features)\n",
    "train_model(model, x_train, y_train)\n",
    "\n",
    "# 将验证集数据转换为张量\n",
    "x_valid_tensor = tf.convert_to_tensor(x_valid, dtype=tf.float32)\n",
    "\n",
    "# 预测\n",
    "valid_preds = make_prediction(model, x_valid_tensor)\n",
    "\n",
    "# Ensure valid_preds has the correct shape\n",
    "valid_preds = np.squeeze(valid_preds, axis=-1)  # Remove singleton dimension if present\n",
    "# valid_preds = scaler.inverse_transform(valid_preds.reshape(-1, 1))"
   ],
   "outputs": [
    {
     "name": "stdout",
     "output_type": "stream",
     "text": [
      "Epoch 1/25\n"
     ]
    },
    {
     "name": "stderr",
     "output_type": "stream",
     "text": [
      "/Users/beilinye/Desktop/Spring_2024/SYDE_660a/6_Code/stock-prediction/.venv/lib/python3.10/site-packages/keras/src/layers/rnn/rnn.py:204: UserWarning: Do not pass an `input_shape`/`input_dim` argument to a layer. When using Sequential models, prefer using an `Input(shape)` object as the first layer in the model instead.\n",
      "  super().__init__(**kwargs)\n"
     ]
    },
    {
     "name": "stdout",
     "output_type": "stream",
     "text": [
      "\u001B[1m68/68\u001B[0m \u001B[32m━━━━━━━━━━━━━━━━━━━━\u001B[0m\u001B[37m\u001B[0m \u001B[1m2s\u001B[0m 24ms/step - loss: 0.0025\n",
      "Epoch 2/25\n",
      "\u001B[1m68/68\u001B[0m \u001B[32m━━━━━━━━━━━━━━━━━━━━\u001B[0m\u001B[37m\u001B[0m \u001B[1m2s\u001B[0m 25ms/step - loss: 1.7948e-04\n",
      "Epoch 3/25\n",
      "\u001B[1m68/68\u001B[0m \u001B[32m━━━━━━━━━━━━━━━━━━━━\u001B[0m\u001B[37m\u001B[0m \u001B[1m2s\u001B[0m 28ms/step - loss: 2.1084e-04\n",
      "Epoch 4/25\n",
      "\u001B[1m68/68\u001B[0m \u001B[32m━━━━━━━━━━━━━━━━━━━━\u001B[0m\u001B[37m\u001B[0m \u001B[1m2s\u001B[0m 26ms/step - loss: 1.6116e-04\n",
      "Epoch 5/25\n",
      "\u001B[1m68/68\u001B[0m \u001B[32m━━━━━━━━━━━━━━━━━━━━\u001B[0m\u001B[37m\u001B[0m \u001B[1m2s\u001B[0m 26ms/step - loss: 1.5567e-04\n",
      "Epoch 6/25\n",
      "\u001B[1m68/68\u001B[0m \u001B[32m━━━━━━━━━━━━━━━━━━━━\u001B[0m\u001B[37m\u001B[0m \u001B[1m2s\u001B[0m 26ms/step - loss: 1.5764e-04\n",
      "Epoch 7/25\n",
      "\u001B[1m68/68\u001B[0m \u001B[32m━━━━━━━━━━━━━━━━━━━━\u001B[0m\u001B[37m\u001B[0m \u001B[1m2s\u001B[0m 27ms/step - loss: 1.5278e-04\n",
      "Epoch 8/25\n",
      "\u001B[1m68/68\u001B[0m \u001B[32m━━━━━━━━━━━━━━━━━━━━\u001B[0m\u001B[37m\u001B[0m \u001B[1m2s\u001B[0m 26ms/step - loss: 1.4283e-04\n",
      "Epoch 9/25\n",
      "\u001B[1m68/68\u001B[0m \u001B[32m━━━━━━━━━━━━━━━━━━━━\u001B[0m\u001B[37m\u001B[0m \u001B[1m2s\u001B[0m 29ms/step - loss: 1.1487e-04\n",
      "Epoch 10/25\n",
      "\u001B[1m68/68\u001B[0m \u001B[32m━━━━━━━━━━━━━━━━━━━━\u001B[0m\u001B[37m\u001B[0m \u001B[1m2s\u001B[0m 26ms/step - loss: 1.1801e-04\n",
      "Epoch 11/25\n",
      "\u001B[1m68/68\u001B[0m \u001B[32m━━━━━━━━━━━━━━━━━━━━\u001B[0m\u001B[37m\u001B[0m \u001B[1m2s\u001B[0m 26ms/step - loss: 1.2792e-04\n",
      "Epoch 12/25\n",
      "\u001B[1m68/68\u001B[0m \u001B[32m━━━━━━━━━━━━━━━━━━━━\u001B[0m\u001B[37m\u001B[0m \u001B[1m2s\u001B[0m 27ms/step - loss: 1.0352e-04\n",
      "Epoch 13/25\n",
      "\u001B[1m68/68\u001B[0m \u001B[32m━━━━━━━━━━━━━━━━━━━━\u001B[0m\u001B[37m\u001B[0m \u001B[1m2s\u001B[0m 26ms/step - loss: 9.2577e-05\n",
      "Epoch 14/25\n",
      "\u001B[1m68/68\u001B[0m \u001B[32m━━━━━━━━━━━━━━━━━━━━\u001B[0m\u001B[37m\u001B[0m \u001B[1m2s\u001B[0m 26ms/step - loss: 1.3303e-04\n",
      "Epoch 15/25\n",
      "\u001B[1m68/68\u001B[0m \u001B[32m━━━━━━━━━━━━━━━━━━━━\u001B[0m\u001B[37m\u001B[0m \u001B[1m2s\u001B[0m 26ms/step - loss: 1.0843e-04\n",
      "Epoch 16/25\n",
      "\u001B[1m68/68\u001B[0m \u001B[32m━━━━━━━━━━━━━━━━━━━━\u001B[0m\u001B[37m\u001B[0m \u001B[1m2s\u001B[0m 29ms/step - loss: 9.3092e-05\n",
      "Epoch 17/25\n",
      "\u001B[1m68/68\u001B[0m \u001B[32m━━━━━━━━━━━━━━━━━━━━\u001B[0m\u001B[37m\u001B[0m \u001B[1m2s\u001B[0m 27ms/step - loss: 9.4227e-05\n",
      "Epoch 18/25\n",
      "\u001B[1m68/68\u001B[0m \u001B[32m━━━━━━━━━━━━━━━━━━━━\u001B[0m\u001B[37m\u001B[0m \u001B[1m2s\u001B[0m 27ms/step - loss: 1.1333e-04\n",
      "Epoch 19/25\n",
      "\u001B[1m68/68\u001B[0m \u001B[32m━━━━━━━━━━━━━━━━━━━━\u001B[0m\u001B[37m\u001B[0m \u001B[1m2s\u001B[0m 29ms/step - loss: 8.4652e-05\n",
      "Epoch 20/25\n",
      "\u001B[1m68/68\u001B[0m \u001B[32m━━━━━━━━━━━━━━━━━━━━\u001B[0m\u001B[37m\u001B[0m \u001B[1m2s\u001B[0m 27ms/step - loss: 8.3942e-05\n",
      "Epoch 21/25\n",
      "\u001B[1m68/68\u001B[0m \u001B[32m━━━━━━━━━━━━━━━━━━━━\u001B[0m\u001B[37m\u001B[0m \u001B[1m2s\u001B[0m 27ms/step - loss: 8.8168e-05\n",
      "Epoch 22/25\n",
      "\u001B[1m68/68\u001B[0m \u001B[32m━━━━━━━━━━━━━━━━━━━━\u001B[0m\u001B[37m\u001B[0m \u001B[1m2s\u001B[0m 29ms/step - loss: 8.3132e-05\n",
      "Epoch 23/25\n",
      "\u001B[1m68/68\u001B[0m \u001B[32m━━━━━━━━━━━━━━━━━━━━\u001B[0m\u001B[37m\u001B[0m \u001B[1m2s\u001B[0m 30ms/step - loss: 7.4744e-05\n",
      "Epoch 24/25\n",
      "\u001B[1m68/68\u001B[0m \u001B[32m━━━━━━━━━━━━━━━━━━━━\u001B[0m\u001B[37m\u001B[0m \u001B[1m2s\u001B[0m 28ms/step - loss: 9.2537e-05\n",
      "Epoch 25/25\n",
      "\u001B[1m68/68\u001B[0m \u001B[32m━━━━━━━━━━━━━━━━━━━━\u001B[0m\u001B[37m\u001B[0m \u001B[1m2s\u001B[0m 29ms/step - loss: 9.5500e-05\n"
     ]
    }
   ],
   "execution_count": 24
  },
  {
   "metadata": {
    "ExecuteTime": {
     "end_time": "2024-07-04T18:38:40.091831Z",
     "start_time": "2024-07-04T18:38:40.088200Z"
    }
   },
   "cell_type": "code",
   "source": "print(valid_preds)",
   "id": "c8408583df040f17",
   "outputs": [
    {
     "name": "stdout",
     "output_type": "stream",
     "text": [
      "[2.6648145  2.5907772  2.4965925  2.404681   2.3307617  2.2668674\n",
      " 2.1627212  2.0697675  1.959932   1.8549101  1.761082   1.676666\n",
      " 1.6177903  1.581253   1.5561196  1.5285935  1.4989986  1.3885545\n",
      " 1.2723136  1.1823372  1.1346486  1.1225904  1.1329968  1.1565496\n",
      " 1.1657206  1.1460556  1.1149288  1.0781093  1.0499449  1.0309529\n",
      " 1.0265737  1.0337001  1.0453657  1.0540417  1.0713828  1.087799\n",
      " 1.1117504  1.1393231  1.145566   1.1358628  1.1029643  1.058651\n",
      " 1.0143294  0.9863705  0.9590253  0.93603104 0.92744935 0.93074226\n",
      " 0.94261646 0.96013385 0.98863304 1.015658   1.0407826  1.0562111\n",
      " 1.0644628  1.069575   1.0832418  1.0851415  1.077156   1.0686579\n",
      " 1.0658057  1.0361012  1.0076561  0.98367    0.96303785 0.9438524\n",
      " 0.9281357  0.91941565 0.90923816 0.90582573 0.8968253  0.8851755\n",
      " 0.8782904  0.87374014 0.88274586 0.9035992  0.9207599  0.9283122\n",
      " 0.94239473 0.97211856 1.0142457  1.0488847  1.0679824  1.0815305\n",
      " 1.1010945  1.1199965  1.1183481  1.1065879  1.0896499  1.0672411\n",
      " 1.0381085  1.0260893  1.0129586  0.99880564 0.97797745 0.95184344\n",
      " 0.9281245  0.90029335 0.87311524 0.86063117 0.8617826  0.8676313\n",
      " 0.8792844  0.90864927 0.9415695  0.96785456 0.99338436 1.0157666\n",
      " 1.0215459  1.0229069  1.0258701  1.029939   1.0278769  1.0174369\n",
      " 0.99972785 0.976568   0.95410746 0.94285023 0.951089   0.95250577\n",
      " 0.9469261  0.93204415 0.91591614 0.9096615  0.9176686  0.9356151\n",
      " 0.94380796 0.96373636 0.9766263  1.0477707  1.1373069  1.2067529\n",
      " 1.2391633  1.2449746  1.2493167  1.2442168  1.2381512  1.2260599\n",
      " 1.2050385  1.1866986  1.1632317  1.1371976  1.1149728  1.09969\n",
      " 1.102833   1.1017687  1.0946958  1.0854354  1.0634304  1.0355549\n",
      " 1.0095161  0.98189235 0.95202297 0.93074673 0.91367245 0.9027187\n",
      " 0.8872392  0.87319654 0.85539085]\n"
     ]
    }
   ],
   "execution_count": 25
  },
  {
   "cell_type": "code",
   "id": "43e1f87a",
   "metadata": {
    "scrolled": false,
    "ExecuteTime": {
     "end_time": "2024-07-04T18:38:40.277702Z",
     "start_time": "2024-07-04T18:38:40.092491Z"
    }
   },
   "source": [
    "# 计算验证集上的RMSE\n",
    "valid_rmse = np.sqrt(mean_squared_error(valid_set['Close/Last'].values[time_steps:], valid_preds))\n",
    "print(f\"LSTM RMSE on validation set: {valid_rmse}\")\n",
    "\n",
    "# 可视化LSTM结果\n",
    "plt.figure(figsize=(14, 7))\n",
    "plt.plot(train_set['Date'], train_set['Close/Last'], label='Training Data')\n",
    "plt.plot(valid_set['Date'][time_steps:], valid_set['Close/Last'].values[time_steps:], label='Validation Data')\n",
    "plt.plot(valid_set['Date'][time_steps:], valid_preds, label='Validation Predictions')\n",
    "plt.xlabel('Date')\n",
    "plt.ylabel('Stock Price')\n",
    "plt.title('Stock Price Prediction with LSTM')\n",
    "plt.legend()\n",
    "plt.show()"
   ],
   "outputs": [
    {
     "name": "stdout",
     "output_type": "stream",
     "text": [
      "LSTM RMSE on validation set: 320.2221746246426\n"
     ]
    },
    {
     "data": {
      "text/plain": [
       "<Figure size 1400x700 with 1 Axes>"
      ],
      "image/png": "[encoded data removed]"
     },
     "metadata": {},
     "output_type": "display_data"
    }
   ],
   "execution_count": 26
  }
 ],
 "metadata": {
  "kernelspec": {
   "display_name": "Python 3 (ipykernel)",
   "language": "python",
   "name": "python3"
  },
  "language_info": {
   "codemirror_mode": {
    "name": "ipython",
    "version": 3
   },
   "file_extension": ".py",
   "mimetype": "text/x-python",
   "name": "python",
   "nbconvert_exporter": "python",
   "pygments_lexer": "ipython3",
   "version": "3.11.5"
  }
 },
 "nbformat": 4,
 "nbformat_minor": 5
}
