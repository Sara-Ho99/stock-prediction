{
 "cells": [
  {
   "cell_type": "code",
   "id": "e2335a3b",
   "metadata": {
    "ExecuteTime": {
     "end_time": "2024-07-04T00:03:05.142730Z",
     "start_time": "2024-07-04T00:03:05.128772Z"
    }
   },
   "source": [
    "import pandas as pd\n",
    "import tensorflow as tf\n"
   ],
   "outputs": [],
   "execution_count": 222
  },
  {
   "cell_type": "code",
   "id": "c6ddb23b",
   "metadata": {
    "ExecuteTime": {
     "end_time": "2024-07-04T00:03:05.191451Z",
     "start_time": "2024-07-04T00:03:05.178981Z"
    }
   },
   "source": [
    "# 检查数据\n",
    "# def check_data(data):\n",
    "#     print(\"数据的前几行：\")\n",
    "#     display(data.head())\n",
    "#     print(\"\\n数据的信息：\")\n",
    "#     data.info()\n",
    "#     print(\"\\n数据是否有缺失值：\")\n",
    "#     print(data.isnull().sum())\n",
    "#     print(\"\\n数据的描述统计信息：\")\n",
    "#     display(data.describe())\n",
    "\n",
    "file_path = './data/SMCI.csv'\n",
    "data_close = pd.read_csv(file_path)\n",
    "# check_data(data)"
   ],
   "outputs": [],
   "execution_count": 223
  },
  {
   "metadata": {
    "ExecuteTime": {
     "end_time": "2024-07-04T00:03:05.202886Z",
     "start_time": "2024-07-04T00:03:05.193797Z"
    }
   },
   "cell_type": "code",
   "source": [
    "# 读取数据\n",
    "file_path_IR = './data/IR_daily.csv'\n",
    "data_IR = pd.read_csv(file_path_IR)"
   ],
   "id": "9dd2501690961cab",
   "outputs": [],
   "execution_count": 224
  },
  {
   "metadata": {
    "ExecuteTime": {
     "end_time": "2024-07-04T00:03:05.208361Z",
     "start_time": "2024-07-04T00:03:05.204665Z"
    }
   },
   "cell_type": "code",
   "source": [
    "print(data_IR.shape)\n",
    "print(data_close.shape)"
   ],
   "id": "b3ba5a091fd1f5c6",
   "outputs": [
    {
     "name": "stdout",
     "output_type": "stream",
     "text": [
      "(2609, 2)\n",
      "(2516, 6)\n"
     ]
    }
   ],
   "execution_count": 225
  },
  {
   "metadata": {
    "ExecuteTime": {
     "end_time": "2024-07-04T00:03:05.224701Z",
     "start_time": "2024-07-04T00:03:05.218038Z"
    }
   },
   "cell_type": "code",
   "source": [
    "# 处理DPRIME列中的缺失数据\n",
    "for idx, value in data_IR['DPRIME'].items():\n",
    "    if value == '.':\n",
    "        # 寻找上一格和下一格的索引\n",
    "        if idx > 0:\n",
    "            prev_idx = idx - 1\n",
    "        else:\n",
    "            prev_idx = idx\n",
    "        \n",
    "        if idx < len(data_IR) - 1:\n",
    "            next_idx = idx + 1\n",
    "        else:\n",
    "            next_idx = idx\n",
    "        \n",
    "        # 计算平均值并填充\n",
    "        if data_IR.at[prev_idx, 'DPRIME'] != '.' and data_IR.at[next_idx, 'DPRIME'] != '.':\n",
    "            avg_value = (float(data_IR.at[prev_idx, 'DPRIME']) + float(data_IR.at[next_idx, 'DPRIME'])) / 2\n",
    "            formatted_avg_value = f'{avg_value:.2f}'\n",
    "            data_IR.at[idx, 'DPRIME'] = formatted_avg_value\n"
   ],
   "id": "e1cd7af61e54730b",
   "outputs": [],
   "execution_count": 226
  },
  {
   "cell_type": "code",
   "id": "1ba82ce2",
   "metadata": {
    "ExecuteTime": {
     "end_time": "2024-07-04T00:03:05.244488Z",
     "start_time": "2024-07-04T00:03:05.241940Z"
    }
   },
   "source": [
    "import numpy as np\n",
    "from sklearn.linear_model import LinearRegression\n",
    "from sklearn.metrics import mean_squared_error\n",
    "import datetime as dt\n",
    "import matplotlib.pyplot as plt"
   ],
   "outputs": [],
   "execution_count": 228
  },
  {
   "cell_type": "code",
   "id": "749387bb",
   "metadata": {
    "ExecuteTime": {
     "end_time": "2024-07-04T00:03:05.256040Z",
     "start_time": "2024-07-04T00:03:05.253332Z"
    }
   },
   "source": [
    "# 目前用的是tensorflow\n",
    "from sklearn.preprocessing import MinMaxScaler\n",
    "from tensorflow.keras.models import Sequential\n",
    "from tensorflow.keras.layers import LSTM, Dense, Dropout"
   ],
   "outputs": [],
   "execution_count": 229
  },
  {
   "metadata": {
    "ExecuteTime": {
     "end_time": "2024-07-04T00:03:05.287295Z",
     "start_time": "2024-07-04T00:03:05.285123Z"
    }
   },
   "cell_type": "code",
   "source": "# data_close",
   "id": "8e69acc9d26015d1",
   "outputs": [],
   "execution_count": 230
  },
  {
   "cell_type": "code",
   "id": "09dd4872",
   "metadata": {
    "ExecuteTime": {
     "end_time": "2024-07-04T00:03:05.316556Z",
     "start_time": "2024-07-04T00:03:05.309835Z"
    }
   },
   "source": [
    "# Remove dollar signs and convert to float for specified columns\n",
    "columns_to_convert = ['Close/Last', 'Open', 'High', 'Low']\n",
    "for column in columns_to_convert:\n",
    "    data_close[column] = data_close[column].str.replace('$', '').str.replace(',', '').astype(float)"
   ],
   "outputs": [],
   "execution_count": 231
  },
  {
   "metadata": {
    "ExecuteTime": {
     "end_time": "2024-07-04T00:03:05.418958Z",
     "start_time": "2024-07-04T00:03:05.414854Z"
    }
   },
   "cell_type": "code",
   "source": [
    "# Variables\n",
    "# Time horizon set to be 9 years for training, 1 year for validation\n",
    "\n",
    "time_steps = 60     # tested [30, 60, 90, 120], 90 is the most efficient one\n",
    "\n",
    "\n",
    "# Feature\n",
    "all_features = ['Close/Last', 'Volume', 'Open', 'High', 'Low', 'DPRIME']\n",
    "selected_features = ['Close/Last']\n",
    "num_features = len(selected_features)"
   ],
   "id": "c4fdd0a79a1db08d",
   "outputs": [],
   "execution_count": 232
  },
  {
   "cell_type": "code",
   "id": "0cbdb72d",
   "metadata": {
    "ExecuteTime": {
     "end_time": "2024-07-04T00:03:05.431013Z",
     "start_time": "2024-07-04T00:03:05.427086Z"
    }
   },
   "source": "# Data Preprocessing",
   "outputs": [],
   "execution_count": 233
  },
  {
   "metadata": {
    "ExecuteTime": {
     "end_time": "2024-07-04T00:03:05.452423Z",
     "start_time": "2024-07-04T00:03:05.447736Z"
    }
   },
   "cell_type": "code",
   "source": "# Prepare the complete dataset, called \"merged_data\"",
   "id": "298a06b1c36572aa",
   "outputs": [],
   "execution_count": 234
  },
  {
   "metadata": {
    "ExecuteTime": {
     "end_time": "2024-07-04T00:03:05.489940Z",
     "start_time": "2024-07-04T00:03:05.464594Z"
    }
   },
   "cell_type": "code",
   "source": [
    "# 1. Convert 'Date' columns to datetime\n",
    "data_close['Date'] = pd.to_datetime(data_close['Date'])\n",
    "data_IR['Date'] = pd.to_datetime(data_IR['DATE'])  # 确保 'DATE' 列名正确\n",
    "\n",
    "# 2. Merge based on 'Date' column\n",
    "merged_data = pd.merge(data_close, data_IR[['Date', 'DPRIME']], on='Date', how='inner')\n",
    "\n",
    "# 3. Print the merged data to check alignment\n",
    "print(\"Merged Data:\")\n",
    "print(merged_data.head())\n",
    "\n",
    "# 4. Check for any missing data after merge\n",
    "missing_data = merged_data[merged_data.isnull().any(axis=1)]\n",
    "if not missing_data.empty:\n",
    "    print(\"There are rows with mismatched dates:\")\n",
    "    print(missing_data)\n",
    "else:\n",
    "    print(\"All dates in the data are aligned correctly.\")"
   ],
   "id": "54ddaa3e36c0f0ef",
   "outputs": [
    {
     "name": "stdout",
     "output_type": "stream",
     "text": [
      "Merged Data:\n",
      "        Date  Close/Last    Volume   Open    High    Low DPRIME\n",
      "0 2024-06-21      905.26   7465581 900.10  917.95 863.22    8.5\n",
      "1 2024-06-20      917.63  13432940 961.29 1014.02 900.32    8.5\n",
      "2 2024-06-18      920.01   8762073 897.00  938.88 883.31    8.5\n",
      "3 2024-06-17      887.41   8911764 857.40  921.91 828.09    8.5\n",
      "4 2024-06-14      844.54   6598781 846.93  872.00 825.61    8.5\n",
      "All dates in the data are aligned correctly.\n"
     ]
    }
   ],
   "execution_count": 235
  },
  {
   "metadata": {
    "ExecuteTime": {
     "end_time": "2024-07-04T00:03:05.493705Z",
     "start_time": "2024-07-04T00:03:05.491030Z"
    }
   },
   "cell_type": "code",
   "source": "# Split the merged data into training and validation",
   "id": "c663c55b115789ef",
   "outputs": [],
   "execution_count": 236
  },
  {
   "metadata": {
    "ExecuteTime": {
     "end_time": "2024-07-04T00:03:05.515581Z",
     "start_time": "2024-07-04T00:03:05.500878Z"
    }
   },
   "cell_type": "code",
   "source": [
    "# Filter date range on merged_data and select specific features for train_set and valid_set\n",
    "train_set = merged_data.loc[(merged_data['Date'] >= '2014-06-24') & (merged_data['Date'] < '2023-06-24'), ['Date'] + selected_features].copy()\n",
    "valid_set = merged_data.loc[(merged_data['Date'] >= '2023-06-25') & (merged_data['Date'] < '2024-06-21'), ['Date'] + selected_features].copy()\n",
    "\n",
    "train_set['Date'] = pd.to_datetime(train_set['Date'])\n",
    "valid_set['Date'] = pd.to_datetime(valid_set['Date'])\n",
    "\n",
    "print(\"Training Set:\")\n",
    "print(train_set.head())\n",
    "\n",
    "print(\"\\nValidation Set:\")\n",
    "print(valid_set.head())\n"
   ],
   "id": "17f15952394444b6",
   "outputs": [
    {
     "name": "stdout",
     "output_type": "stream",
     "text": [
      "Training Set:\n",
      "          Date  Close/Last\n",
      "250 2023-06-23      216.06\n",
      "251 2023-06-22      226.46\n",
      "252 2023-06-21      219.91\n",
      "253 2023-06-20      222.40\n",
      "254 2023-06-16      230.77\n",
      "\n",
      "Validation Set:\n",
      "        Date  Close/Last\n",
      "1 2024-06-20      917.63\n",
      "2 2024-06-18      920.01\n",
      "3 2024-06-17      887.41\n",
      "4 2024-06-14      844.54\n",
      "5 2024-06-13      871.10\n"
     ]
    }
   ],
   "execution_count": 237
  },
  {
   "metadata": {
    "ExecuteTime": {
     "end_time": "2024-07-04T00:03:05.519825Z",
     "start_time": "2024-07-04T00:03:05.517810Z"
    }
   },
   "cell_type": "code",
   "source": "# Scaling the datasets, using MinMaxScaler",
   "id": "9fac48b2fcdbb034",
   "outputs": [],
   "execution_count": 238
  },
  {
   "metadata": {
    "ExecuteTime": {
     "end_time": "2024-07-04T00:03:05.541003Z",
     "start_time": "2024-07-04T00:03:05.532531Z"
    }
   },
   "cell_type": "code",
   "source": [
    "scaler = MinMaxScaler(feature_range=(0, 1))\n",
    "\n",
    "train_data = scaler.fit_transform(train_set[selected_features].values)\n",
    "valid_data = scaler.transform(valid_set[selected_features].values)\n",
    "\n",
    "x_train, y_train = [], []\n",
    "for i in range(time_steps, len(train_data)):\n",
    "    x_train.append(train_data[i-time_steps:i, :])\n",
    "    y_train.append(train_data[i, 0])  # Only keep the first column as label\n",
    "\n",
    "x_valid, y_valid = [], []\n",
    "for i in range(time_steps, len(valid_data)):\n",
    "    x_valid.append(valid_data[i-time_steps:i, :])\n",
    "    y_valid.append(valid_data[i, 0])  # Only keep the first column as label\n",
    "\n",
    "x_train, y_train = np.array(x_train), np.array(y_train)\n",
    "x_valid, y_valid = np.array(x_valid), np.array(y_valid)\n",
    "\n",
    "x_train = np.reshape(x_train, (x_train.shape[0], x_train.shape[1], len(selected_features)))\n",
    "x_valid = np.reshape(x_valid, (x_valid.shape[0], x_valid.shape[1], len(selected_features)))\n",
    "\n",
    "# Print the shapes of the processed data\n",
    "print(f\"x_train shape: {x_train.shape}\")\n",
    "print(f\"y_train shape: {y_train.shape}\")\n",
    "print(f\"x_valid shape: {x_valid.shape}\")\n",
    "print(f\"y_valid shape: {y_valid.shape}\")\n"
   ],
   "id": "8d200d27876586e7",
   "outputs": [
    {
     "name": "stdout",
     "output_type": "stream",
     "text": [
      "x_train shape: (2206, 60, 1)\n",
      "y_train shape: (2206,)\n",
      "x_valid shape: (189, 60, 1)\n",
      "y_valid shape: (189,)\n"
     ]
    }
   ],
   "execution_count": 239
  },
  {
   "cell_type": "code",
   "id": "8c5c9382",
   "metadata": {
    "ExecuteTime": {
     "end_time": "2024-07-04T00:03:05.545074Z",
     "start_time": "2024-07-04T00:03:05.542052Z"
    }
   },
   "source": [
    "# 调参：LSTM模型\n",
    "def build_model(time_steps, num_features):\n",
    "    model = Sequential()\n",
    "    model.add(LSTM(units=50, return_sequences=True, input_shape=(time_steps, num_features)))\n",
    "    model.add(Dropout(0.2))\n",
    "    model.add(LSTM(units=50, return_sequences=False))\n",
    "    model.add(Dropout(0.2))\n",
    "    model.add(Dense(units=1))\n",
    "    model.compile(optimizer='adam', loss='mean_squared_error')\n",
    "    return model"
   ],
   "outputs": [],
   "execution_count": 240
  },
  {
   "cell_type": "code",
   "id": "5db99227",
   "metadata": {
    "ExecuteTime": {
     "end_time": "2024-07-04T00:03:05.548703Z",
     "start_time": "2024-07-04T00:03:05.546688Z"
    }
   },
   "source": [
    "# 调参：训练模型\n",
    "def train_model(model, x_train, y_train):\n",
    "    model.fit(x_train, y_train, epochs=25, batch_size=32)"
   ],
   "outputs": [],
   "execution_count": 241
  },
  {
   "cell_type": "code",
   "id": "a25f0e47",
   "metadata": {
    "ExecuteTime": {
     "end_time": "2024-07-04T00:03:05.554502Z",
     "start_time": "2024-07-04T00:03:05.549802Z"
    }
   },
   "source": [
    "# 预测函数\n",
    "\n",
    "@tf.function(reduce_retracing=True)\n",
    "def make_prediction(model, x_valid):\n",
    "    return model(x_valid, training=False)"
   ],
   "outputs": [],
   "execution_count": 242
  },
  {
   "cell_type": "code",
   "id": "f32867f6",
   "metadata": {
    "scrolled": true,
    "ExecuteTime": {
     "end_time": "2024-07-04T00:03:43.591311Z",
     "start_time": "2024-07-04T00:03:05.559965Z"
    }
   },
   "source": [
    "# 构建模型\n",
    "model = build_model(time_steps, num_features=num_features)\n",
    "train_model(model, x_train, y_train)\n",
    "\n",
    "# 将验证集数据转换为张量\n",
    "x_valid_tensor = tf.convert_to_tensor(x_valid, dtype=tf.float32)\n",
    "\n",
    "# 预测\n",
    "valid_preds = make_prediction(model, x_valid_tensor)\n",
    "\n",
    "# Ensure valid_preds has the correct shape\n",
    "valid_preds = np.squeeze(valid_preds, axis=-1)  # Remove singleton dimension if present\n",
    "# valid_preds = scaler.inverse_transform(valid_preds.reshape(-1, 1))"
   ],
   "outputs": [
    {
     "name": "stdout",
     "output_type": "stream",
     "text": [
      "Epoch 1/25\n"
     ]
    },
    {
     "name": "stderr",
     "output_type": "stream",
     "text": [
      "/Users/beilinye/Desktop/Spring_2024/SYDE_660a/6_Code/stock-prediction/.venv/lib/python3.10/site-packages/keras/src/layers/rnn/rnn.py:204: UserWarning: Do not pass an `input_shape`/`input_dim` argument to a layer. When using Sequential models, prefer using an `Input(shape)` object as the first layer in the model instead.\n",
      "  super().__init__(**kwargs)\n"
     ]
    },
    {
     "name": "stdout",
     "output_type": "stream",
     "text": [
      "\u001B[1m69/69\u001B[0m \u001B[32m━━━━━━━━━━━━━━━━━━━━\u001B[0m\u001B[37m\u001B[0m \u001B[1m3s\u001B[0m 18ms/step - loss: 0.0011\n",
      "Epoch 2/25\n",
      "\u001B[1m69/69\u001B[0m \u001B[32m━━━━━━━━━━━━━━━━━━━━\u001B[0m\u001B[37m\u001B[0m \u001B[1m1s\u001B[0m 20ms/step - loss: 2.0593e-04\n",
      "Epoch 3/25\n",
      "\u001B[1m69/69\u001B[0m \u001B[32m━━━━━━━━━━━━━━━━━━━━\u001B[0m\u001B[37m\u001B[0m \u001B[1m1s\u001B[0m 19ms/step - loss: 1.8952e-04\n",
      "Epoch 4/25\n",
      "\u001B[1m69/69\u001B[0m \u001B[32m━━━━━━━━━━━━━━━━━━━━\u001B[0m\u001B[37m\u001B[0m \u001B[1m2s\u001B[0m 25ms/step - loss: 1.6471e-04\n",
      "Epoch 5/25\n",
      "\u001B[1m69/69\u001B[0m \u001B[32m━━━━━━━━━━━━━━━━━━━━\u001B[0m\u001B[37m\u001B[0m \u001B[1m1s\u001B[0m 19ms/step - loss: 1.5349e-04\n",
      "Epoch 6/25\n",
      "\u001B[1m69/69\u001B[0m \u001B[32m━━━━━━━━━━━━━━━━━━━━\u001B[0m\u001B[37m\u001B[0m \u001B[1m1s\u001B[0m 19ms/step - loss: 1.4488e-04\n",
      "Epoch 7/25\n",
      "\u001B[1m69/69\u001B[0m \u001B[32m━━━━━━━━━━━━━━━━━━━━\u001B[0m\u001B[37m\u001B[0m \u001B[1m1s\u001B[0m 19ms/step - loss: 1.4014e-04\n",
      "Epoch 8/25\n",
      "\u001B[1m69/69\u001B[0m \u001B[32m━━━━━━━━━━━━━━━━━━━━\u001B[0m\u001B[37m\u001B[0m \u001B[1m2s\u001B[0m 23ms/step - loss: 1.5865e-04\n",
      "Epoch 9/25\n",
      "\u001B[1m69/69\u001B[0m \u001B[32m━━━━━━━━━━━━━━━━━━━━\u001B[0m\u001B[37m\u001B[0m \u001B[1m1s\u001B[0m 19ms/step - loss: 1.2930e-04\n",
      "Epoch 10/25\n",
      "\u001B[1m69/69\u001B[0m \u001B[32m━━━━━━━━━━━━━━━━━━━━\u001B[0m\u001B[37m\u001B[0m \u001B[1m1s\u001B[0m 19ms/step - loss: 1.1398e-04\n",
      "Epoch 11/25\n",
      "\u001B[1m69/69\u001B[0m \u001B[32m━━━━━━━━━━━━━━━━━━━━\u001B[0m\u001B[37m\u001B[0m \u001B[1m1s\u001B[0m 19ms/step - loss: 1.1060e-04\n",
      "Epoch 12/25\n",
      "\u001B[1m69/69\u001B[0m \u001B[32m━━━━━━━━━━━━━━━━━━━━\u001B[0m\u001B[37m\u001B[0m \u001B[1m1s\u001B[0m 20ms/step - loss: 1.4113e-04\n",
      "Epoch 13/25\n",
      "\u001B[1m69/69\u001B[0m \u001B[32m━━━━━━━━━━━━━━━━━━━━\u001B[0m\u001B[37m\u001B[0m \u001B[1m2s\u001B[0m 25ms/step - loss: 1.0768e-04\n",
      "Epoch 14/25\n",
      "\u001B[1m69/69\u001B[0m \u001B[32m━━━━━━━━━━━━━━━━━━━━\u001B[0m\u001B[37m\u001B[0m \u001B[1m1s\u001B[0m 20ms/step - loss: 1.2477e-04\n",
      "Epoch 15/25\n",
      "\u001B[1m69/69\u001B[0m \u001B[32m━━━━━━━━━━━━━━━━━━━━\u001B[0m\u001B[37m\u001B[0m \u001B[1m1s\u001B[0m 20ms/step - loss: 1.1534e-04\n",
      "Epoch 16/25\n",
      "\u001B[1m69/69\u001B[0m \u001B[32m━━━━━━━━━━━━━━━━━━━━\u001B[0m\u001B[37m\u001B[0m \u001B[1m1s\u001B[0m 20ms/step - loss: 1.3171e-04\n",
      "Epoch 17/25\n",
      "\u001B[1m69/69\u001B[0m \u001B[32m━━━━━━━━━━━━━━━━━━━━\u001B[0m\u001B[37m\u001B[0m \u001B[1m1s\u001B[0m 20ms/step - loss: 9.9593e-05\n",
      "Epoch 18/25\n",
      "\u001B[1m69/69\u001B[0m \u001B[32m━━━━━━━━━━━━━━━━━━━━\u001B[0m\u001B[37m\u001B[0m \u001B[1m2s\u001B[0m 25ms/step - loss: 8.2637e-05\n",
      "Epoch 19/25\n",
      "\u001B[1m69/69\u001B[0m \u001B[32m━━━━━━━━━━━━━━━━━━━━\u001B[0m\u001B[37m\u001B[0m \u001B[1m1s\u001B[0m 20ms/step - loss: 1.0319e-04\n",
      "Epoch 20/25\n",
      "\u001B[1m69/69\u001B[0m \u001B[32m━━━━━━━━━━━━━━━━━━━━\u001B[0m\u001B[37m\u001B[0m \u001B[1m1s\u001B[0m 21ms/step - loss: 1.0589e-04\n",
      "Epoch 21/25\n",
      "\u001B[1m69/69\u001B[0m \u001B[32m━━━━━━━━━━━━━━━━━━━━\u001B[0m\u001B[37m\u001B[0m \u001B[1m1s\u001B[0m 21ms/step - loss: 9.1917e-05\n",
      "Epoch 22/25\n",
      "\u001B[1m69/69\u001B[0m \u001B[32m━━━━━━━━━━━━━━━━━━━━\u001B[0m\u001B[37m\u001B[0m \u001B[1m1s\u001B[0m 21ms/step - loss: 9.2617e-05\n",
      "Epoch 23/25\n",
      "\u001B[1m69/69\u001B[0m \u001B[32m━━━━━━━━━━━━━━━━━━━━\u001B[0m\u001B[37m\u001B[0m \u001B[1m2s\u001B[0m 25ms/step - loss: 1.1266e-04\n",
      "Epoch 24/25\n",
      "\u001B[1m69/69\u001B[0m \u001B[32m━━━━━━━━━━━━━━━━━━━━\u001B[0m\u001B[37m\u001B[0m \u001B[1m2s\u001B[0m 22ms/step - loss: 8.2561e-05\n",
      "Epoch 25/25\n",
      "\u001B[1m69/69\u001B[0m \u001B[32m━━━━━━━━━━━━━━━━━━━━\u001B[0m\u001B[37m\u001B[0m \u001B[1m1s\u001B[0m 21ms/step - loss: 9.2375e-05\n"
     ]
    }
   ],
   "execution_count": 243
  },
  {
   "metadata": {
    "ExecuteTime": {
     "end_time": "2024-07-04T00:06:17.665359Z",
     "start_time": "2024-07-04T00:06:17.645616Z"
    }
   },
   "cell_type": "code",
   "source": "print(valid_preds)",
   "id": "c8408583df040f17",
   "outputs": [
    {
     "name": "stdout",
     "output_type": "stream",
     "text": [
      "[2.839589   2.8521104  2.832775   2.8164349  2.7702098  2.739266\n",
      " 2.7543693  2.7972355  2.8563259  2.9220366  2.9607968  2.958978\n",
      " 2.976721   2.9936323  2.9934483  2.9811273  2.9650235  2.886769\n",
      " 2.8072996  2.718585   2.663267   2.6346524  2.6100073  2.6489034\n",
      " 2.5700972  2.5287054  2.5024333  2.5840113  2.5989985  2.5671523\n",
      " 2.5255687  2.471026   2.4023173  2.3373456  2.2850437  2.2362845\n",
      " 2.1500275  2.078207   1.9883273  1.9036357  1.8260258  1.7530615\n",
      " 1.6991808  1.6596365  1.6259383  1.5883327  1.5498776  1.4406242\n",
      " 1.3372039  1.2584457  1.2140003  1.1951561  1.1909643  1.1958072\n",
      " 1.1869138  1.1555328  1.1201036  1.0835367  1.0574068  1.0395383\n",
      " 1.0342613  1.0378386  1.0441424  1.0472934  1.059629   1.0710326\n",
      " 1.090402   1.1131006  1.1161338  1.1075554  1.0801294  1.0450724\n",
      " 1.0110852  0.9915625  0.96914876 0.94892555 0.94072163 0.9414169\n",
      " 0.9483926  0.95969105 0.9812156  1.0008281  1.0196942  1.0308133\n",
      " 1.0374662  1.0430543  1.0576997  1.0604733  1.0550987  1.0503697\n",
      " 1.050861   1.0249146  1.0024986  0.98389405 0.9671317  0.9503218\n",
      " 0.93575853 0.92687815 0.9154008  0.91034925 0.8992901  0.88644814\n",
      " 0.8789127  0.87346077 0.8809513  0.89843506 0.9109742  0.914901\n",
      " 0.926879   0.95391464 0.9912811  1.0201037  1.0353858  1.0481042\n",
      " 1.0680807  1.0871747  1.0870315  1.0797176  1.0688102  1.053016\n",
      " 1.0307267  1.0243446  1.0138869  1.0012511  0.98161    0.9572272\n",
      " 0.93553615 0.90941095 0.8839568  0.8723052  0.8718681  0.87395185\n",
      " 0.88089806 0.90455943 0.93014336 0.94948256 0.9698359  0.98854953\n",
      " 0.99293125 0.99584943 1.0015115  1.0081512  1.0085156  1.0011806\n",
      " 0.9875472  0.96918774 0.9515849  0.9439119  0.95275307 0.95191026\n",
      " 0.9444292  0.9290077  0.9138612  0.9087105  0.91617775 0.9312303\n",
      " 0.9354861  0.95212173 0.9613775  1.0270962  1.1034702  1.1580362\n",
      " 1.18136    1.186696   1.1961031  1.1981382  1.2001516  1.1958543\n",
      " 1.182762   1.1719174  1.1547527  1.1344564  1.1168591  1.1042683\n",
      " 1.1071491  1.1031483  1.0935286  1.0828074  1.0608783  1.0352727\n",
      " 1.0123724  0.98767126 0.9605387  0.9413411  0.9247184  0.91293156\n",
      " 0.89578855 0.8804387  0.8615674 ]\n"
     ]
    }
   ],
   "execution_count": 245
  },
  {
   "cell_type": "code",
   "id": "43e1f87a",
   "metadata": {
    "scrolled": false,
    "ExecuteTime": {
     "end_time": "2024-07-04T00:03:43.798917Z",
     "start_time": "2024-07-04T00:03:43.593585Z"
    }
   },
   "source": [
    "# 计算验证集上的RMSE\n",
    "valid_rmse = np.sqrt(mean_squared_error(valid_set['Close/Last'].values[time_steps:], valid_preds))\n",
    "print(f\"LSTM RMSE on validation set: {valid_rmse}\")\n",
    "\n",
    "# 可视化LSTM结果\n",
    "plt.figure(figsize=(14, 7))\n",
    "plt.plot(train_set['Date'], train_set['Close/Last'], label='Training Data')\n",
    "plt.plot(valid_set['Date'][time_steps:], valid_set['Close/Last'].values[time_steps:], label='Validation Data')\n",
    "plt.plot(valid_set['Date'][time_steps:], valid_preds, label='Validation Predictions')\n",
    "plt.xlabel('Date')\n",
    "plt.ylabel('Stock Price')\n",
    "plt.title('Stock Price Prediction with LSTM')\n",
    "plt.legend()\n",
    "plt.show()"
   ],
   "outputs": [
    {
     "name": "stdout",
     "output_type": "stream",
     "text": [
      "LSTM RMSE on validation set: 485.73647629724644\n"
     ]
    },
    {
     "data": {
      "text/plain": [
       "<Figure size 1400x700 with 1 Axes>"
      ],
      "image/png": "[encoded data removed]"
     },
     "metadata": {},
     "output_type": "display_data"
    }
   ],
   "execution_count": 244
  }
 ],
 "metadata": {
  "kernelspec": {
   "display_name": "Python 3 (ipykernel)",
   "language": "python",
   "name": "python3"
  },
  "language_info": {
   "codemirror_mode": {
    "name": "ipython",
    "version": 3
   },
   "file_extension": ".py",
   "mimetype": "text/x-python",
   "name": "python",
   "nbconvert_exporter": "python",
   "pygments_lexer": "ipython3",
   "version": "3.11.5"
  }
 },
 "nbformat": 4,
 "nbformat_minor": 5
}
