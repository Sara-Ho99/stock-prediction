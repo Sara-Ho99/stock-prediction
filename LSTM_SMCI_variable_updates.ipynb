{
 "cells": [
  {
   "cell_type": "code",
   "id": "e2335a3b",
   "metadata": {
    "ExecuteTime": {
     "end_time": "2024-07-04T18:39:25.396992Z",
     "start_time": "2024-07-04T18:39:25.063899Z"
    }
   },
   "source": [
    "import pandas as pd"
   ],
   "outputs": [],
   "execution_count": 3
  },
  {
   "metadata": {},
   "cell_type": "code",
   "outputs": [],
   "execution_count": null,
   "source": [
    "# 0. Import all libraries\n",
    "import numpy as np\n",
    "from sklearn.linear_model import LinearRegression\n",
    "from sklearn.metrics import mean_squared_error\n",
    "import datetime as dt\n",
    "import matplotlib.pyplot as plt\n",
    "from sklearn.preprocessing import MinMaxScaler\n",
    "from tensorflow.keras.models import Sequential\n",
    "from tensorflow.keras.layers import LSTM, Dense, Dropout"
   ],
   "id": "c964da099cdf32a7"
  },
  {
   "cell_type": "code",
   "id": "c6ddb23b",
   "metadata": {
    "ExecuteTime": {
     "end_time": "2024-07-04T18:43:42.054547Z",
     "start_time": "2024-07-04T18:43:42.018161Z"
    }
   },
   "source": [
    "# 1. Import data\n",
    "file_path = './data/SMCI.csv'\n",
    "data = pd.read_csv(file_path)"
   ],
   "outputs": [],
   "execution_count": 21
  },
  {
   "cell_type": "code",
   "id": "09dd4872",
   "metadata": {
    "ExecuteTime": {
     "end_time": "2024-07-04T18:39:29.165099Z",
     "start_time": "2024-07-04T18:39:29.161334Z"
    }
   },
   "source": [
    "# Delete \"$\"s and convert data into float numbers\n",
    "data['Close'] = data['Close/Last'].str.replace('$', '').astype(float)"
   ],
   "outputs": [],
   "execution_count": 7
  },
  {
   "metadata": {
    "ExecuteTime": {
     "end_time": "2024-07-04T18:39:29.175891Z",
     "start_time": "2024-07-04T18:39:29.173829Z"
    }
   },
   "cell_type": "code",
   "source": [
    "# 2. Setup Variables\n",
    "# 2.1 Time horizon set to be 9 years for training, 1 year for validation\n",
    "# 2.2 time steps for LSTM\n",
    "time_steps = 90     # tested [30, 60, 90, 120], 90 is the most efficient one"
   ],
   "id": "c4fdd0a79a1db08d",
   "outputs": [],
   "execution_count": 9
  },
  {
   "cell_type": "code",
   "id": "0cbdb72d",
   "metadata": {
    "ExecuteTime": {
     "end_time": "2024-07-04T18:39:29.184473Z",
     "start_time": "2024-07-04T18:39:29.178215Z"
    }
   },
   "source": [
    "# 3. Data pre-processing\n",
    "def preprocess_data(train_set, valid_set):\n",
    "    scaler = MinMaxScaler(feature_range=(0, 1))\n",
    "    \n",
    "    # Normalization\n",
    "    train_data = scaler.fit_transform(train_set['Close'].values.reshape(-1, 1))\n",
    "    valid_data = scaler.transform(valid_set['Close'].values.reshape(-1, 1))\n",
    "    \n",
    "    x_train, y_train = [], []\n",
    "    for i in range(time_steps, len(train_data)):\n",
    "        x_train.append(train_data[i-time_steps:i, 0])\n",
    "        y_train.append(train_data[i, 0])\n",
    "    \n",
    "    x_valid, y_valid = [], []\n",
    "    for i in range(time_steps, len(valid_data)):\n",
    "        x_valid.append(valid_data[i-time_steps:i, 0])\n",
    "        y_valid.append(valid_data[i, 0])\n",
    "    \n",
    "    x_train, y_train = np.array(x_train), np.array(y_train)\n",
    "    x_train = np.reshape(x_train, (x_train.shape[0], x_train.shape[1], 1))\n",
    "    \n",
    "    x_valid, y_valid = np.array(x_valid), np.array(y_valid)\n",
    "    x_valid = np.reshape(x_valid, (x_valid.shape[0], x_valid.shape[1], 1))\n",
    "    \n",
    "    return x_train, y_train, x_valid, y_valid, scaler"
   ],
   "outputs": [],
   "execution_count": 10
  },
  {
   "cell_type": "code",
   "id": "8c5c9382",
   "metadata": {
    "ExecuteTime": {
     "end_time": "2024-07-04T18:39:29.188387Z",
     "start_time": "2024-07-04T18:39:29.185453Z"
    }
   },
   "source": [
    "# 调参：LSTM模型\n",
    "def build_model():\n",
    "    model = Sequential()\n",
    "    model.add(LSTM(units=50, return_sequences=True, input_shape=(time_steps, 1)))\n",
    "    model.add(Dropout(0.2))\n",
    "    model.add(LSTM(units=50, return_sequences=False))\n",
    "    model.add(Dropout(0.2))\n",
    "    model.add(Dense(units=1))\n",
    "    model.compile(optimizer='adam', loss='mean_squared_error')\n",
    "    return model"
   ],
   "outputs": [],
   "execution_count": 11
  },
  {
   "cell_type": "code",
   "id": "5db99227",
   "metadata": {
    "ExecuteTime": {
     "end_time": "2024-07-04T18:39:29.194176Z",
     "start_time": "2024-07-04T18:39:29.191866Z"
    }
   },
   "source": [
    "# 调参：训练模型\n",
    "def train_model(model, x_train, y_train):\n",
    "    model.fit(x_train, y_train, epochs=25, batch_size=32)"
   ],
   "outputs": [],
   "execution_count": 12
  },
  {
   "cell_type": "code",
   "id": "a25f0e47",
   "metadata": {
    "ExecuteTime": {
     "end_time": "2024-07-04T18:39:29.200036Z",
     "start_time": "2024-07-04T18:39:29.196917Z"
    }
   },
   "source": [
    "# 预测函数\n",
    "def make_prediction(model, x_valid, scaler):\n",
    "    predictions = model.predict(x_valid)\n",
    "    predictions = scaler.inverse_transform(predictions)\n",
    "    return predictions"
   ],
   "outputs": [],
   "execution_count": 13
  },
  {
   "cell_type": "code",
   "id": "b00d8512",
   "metadata": {
    "ExecuteTime": {
     "end_time": "2024-07-04T18:39:29.212774Z",
     "start_time": "2024-07-04T18:39:29.202422Z"
    }
   },
   "source": [
    "data['Date'] = pd.to_datetime(data['Date'])\n",
    "train_set = data[(data['Date'] >= '2014-06-24') & (data['Date'] < '2023-06-24')].copy()\n",
    "vaild_set = data[(data['Date'] >= '2023-06-25') & (data['Date'] < '2024-06-21')].copy()"
   ],
   "outputs": [],
   "execution_count": 14
  },
  {
   "cell_type": "code",
   "id": "ae77d6ad",
   "metadata": {
    "ExecuteTime": {
     "end_time": "2024-07-04T18:41:10.655840Z",
     "start_time": "2024-07-04T18:41:10.637732Z"
    }
   },
   "source": [
    "print(train_set.shape)\n",
    "print(vaild_set.shape)"
   ],
   "outputs": [
    {
     "name": "stdout",
     "output_type": "stream",
     "text": [
      "(2266, 7)\n",
      "(249, 7)\n"
     ]
    }
   ],
   "execution_count": 20
  },
  {
   "cell_type": "code",
   "id": "f32867f6",
   "metadata": {
    "scrolled": true,
    "ExecuteTime": {
     "end_time": "2024-07-04T18:40:19.792308Z",
     "start_time": "2024-07-04T18:39:29.218533Z"
    }
   },
   "source": [
    "# 调用预处理\n",
    "x_train, y_train, x_valid, y_valid, scaler = preprocess_data(train_set, vaild_set)\n",
    "# 训练模型\n",
    "model = build_model()\n",
    "train_model(model, x_train, y_train)\n",
    "#预测\n",
    "valid_preds = make_prediction(model, x_valid, scaler)"
   ],
   "outputs": [
    {
     "name": "stdout",
     "output_type": "stream",
     "text": [
      "Epoch 1/25\n"
     ]
    },
    {
     "name": "stderr",
     "output_type": "stream",
     "text": [
      "/Users/beilinye/Desktop/Spring_2024/SYDE_660a/6_Code/stock-prediction/.venv/lib/python3.10/site-packages/keras/src/layers/rnn/rnn.py:204: UserWarning: Do not pass an `input_shape`/`input_dim` argument to a layer. When using Sequential models, prefer using an `Input(shape)` object as the first layer in the model instead.\n",
      "  super().__init__(**kwargs)\n"
     ]
    },
    {
     "name": "stdout",
     "output_type": "stream",
     "text": [
      "\u001B[1m68/68\u001B[0m \u001B[32m━━━━━━━━━━━━━━━━━━━━\u001B[0m\u001B[37m\u001B[0m \u001B[1m3s\u001B[0m 27ms/step - loss: 0.0023\n",
      "Epoch 2/25\n",
      "\u001B[1m68/68\u001B[0m \u001B[32m━━━━━━━━━━━━━━━━━━━━\u001B[0m\u001B[37m\u001B[0m \u001B[1m2s\u001B[0m 31ms/step - loss: 1.8013e-04\n",
      "Epoch 3/25\n",
      "\u001B[1m68/68\u001B[0m \u001B[32m━━━━━━━━━━━━━━━━━━━━\u001B[0m\u001B[37m\u001B[0m \u001B[1m2s\u001B[0m 27ms/step - loss: 1.7612e-04\n",
      "Epoch 4/25\n",
      "\u001B[1m68/68\u001B[0m \u001B[32m━━━━━━━━━━━━━━━━━━━━\u001B[0m\u001B[37m\u001B[0m \u001B[1m2s\u001B[0m 27ms/step - loss: 1.6588e-04\n",
      "Epoch 5/25\n",
      "\u001B[1m68/68\u001B[0m \u001B[32m━━━━━━━━━━━━━━━━━━━━\u001B[0m\u001B[37m\u001B[0m \u001B[1m2s\u001B[0m 27ms/step - loss: 1.5435e-04\n",
      "Epoch 6/25\n",
      "\u001B[1m68/68\u001B[0m \u001B[32m━━━━━━━━━━━━━━━━━━━━\u001B[0m\u001B[37m\u001B[0m \u001B[1m2s\u001B[0m 27ms/step - loss: 1.4724e-04\n",
      "Epoch 7/25\n",
      "\u001B[1m68/68\u001B[0m \u001B[32m━━━━━━━━━━━━━━━━━━━━\u001B[0m\u001B[37m\u001B[0m \u001B[1m2s\u001B[0m 27ms/step - loss: 1.1550e-04\n",
      "Epoch 8/25\n",
      "\u001B[1m68/68\u001B[0m \u001B[32m━━━━━━━━━━━━━━━━━━━━\u001B[0m\u001B[37m\u001B[0m \u001B[1m2s\u001B[0m 28ms/step - loss: 1.0362e-04\n",
      "Epoch 9/25\n",
      "\u001B[1m68/68\u001B[0m \u001B[32m━━━━━━━━━━━━━━━━━━━━\u001B[0m\u001B[37m\u001B[0m \u001B[1m2s\u001B[0m 28ms/step - loss: 1.1512e-04\n",
      "Epoch 10/25\n",
      "\u001B[1m68/68\u001B[0m \u001B[32m━━━━━━━━━━━━━━━━━━━━\u001B[0m\u001B[37m\u001B[0m \u001B[1m2s\u001B[0m 32ms/step - loss: 9.3326e-05\n",
      "Epoch 11/25\n",
      "\u001B[1m68/68\u001B[0m \u001B[32m━━━━━━━━━━━━━━━━━━━━\u001B[0m\u001B[37m\u001B[0m \u001B[1m2s\u001B[0m 28ms/step - loss: 1.0033e-04\n",
      "Epoch 12/25\n",
      "\u001B[1m68/68\u001B[0m \u001B[32m━━━━━━━━━━━━━━━━━━━━\u001B[0m\u001B[37m\u001B[0m \u001B[1m2s\u001B[0m 27ms/step - loss: 9.4352e-05\n",
      "Epoch 13/25\n",
      "\u001B[1m68/68\u001B[0m \u001B[32m━━━━━━━━━━━━━━━━━━━━\u001B[0m\u001B[37m\u001B[0m \u001B[1m2s\u001B[0m 28ms/step - loss: 1.0410e-04\n",
      "Epoch 14/25\n",
      "\u001B[1m68/68\u001B[0m \u001B[32m━━━━━━━━━━━━━━━━━━━━\u001B[0m\u001B[37m\u001B[0m \u001B[1m2s\u001B[0m 28ms/step - loss: 8.7080e-05\n",
      "Epoch 15/25\n",
      "\u001B[1m68/68\u001B[0m \u001B[32m━━━━━━━━━━━━━━━━━━━━\u001B[0m\u001B[37m\u001B[0m \u001B[1m2s\u001B[0m 28ms/step - loss: 1.0800e-04\n",
      "Epoch 16/25\n",
      "\u001B[1m68/68\u001B[0m \u001B[32m━━━━━━━━━━━━━━━━━━━━\u001B[0m\u001B[37m\u001B[0m \u001B[1m2s\u001B[0m 29ms/step - loss: 8.2700e-05\n",
      "Epoch 17/25\n",
      "\u001B[1m68/68\u001B[0m \u001B[32m━━━━━━━━━━━━━━━━━━━━\u001B[0m\u001B[37m\u001B[0m \u001B[1m2s\u001B[0m 28ms/step - loss: 8.8766e-05\n",
      "Epoch 18/25\n",
      "\u001B[1m68/68\u001B[0m \u001B[32m━━━━━━━━━━━━━━━━━━━━\u001B[0m\u001B[37m\u001B[0m \u001B[1m2s\u001B[0m 29ms/step - loss: 9.0314e-05\n",
      "Epoch 19/25\n",
      "\u001B[1m68/68\u001B[0m \u001B[32m━━━━━━━━━━━━━━━━━━━━\u001B[0m\u001B[37m\u001B[0m \u001B[1m2s\u001B[0m 34ms/step - loss: 8.5998e-05\n",
      "Epoch 20/25\n",
      "\u001B[1m68/68\u001B[0m \u001B[32m━━━━━━━━━━━━━━━━━━━━\u001B[0m\u001B[37m\u001B[0m \u001B[1m2s\u001B[0m 28ms/step - loss: 7.9574e-05\n",
      "Epoch 21/25\n",
      "\u001B[1m68/68\u001B[0m \u001B[32m━━━━━━━━━━━━━━━━━━━━\u001B[0m\u001B[37m\u001B[0m \u001B[1m2s\u001B[0m 28ms/step - loss: 7.8519e-05\n",
      "Epoch 22/25\n",
      "\u001B[1m68/68\u001B[0m \u001B[32m━━━━━━━━━━━━━━━━━━━━\u001B[0m\u001B[37m\u001B[0m \u001B[1m2s\u001B[0m 31ms/step - loss: 6.8286e-05\n",
      "Epoch 23/25\n",
      "\u001B[1m68/68\u001B[0m \u001B[32m━━━━━━━━━━━━━━━━━━━━\u001B[0m\u001B[37m\u001B[0m \u001B[1m2s\u001B[0m 35ms/step - loss: 8.2484e-05\n",
      "Epoch 24/25\n",
      "\u001B[1m68/68\u001B[0m \u001B[32m━━━━━━━━━━━━━━━━━━━━\u001B[0m\u001B[37m\u001B[0m \u001B[1m2s\u001B[0m 28ms/step - loss: 7.5599e-05\n",
      "Epoch 25/25\n",
      "\u001B[1m68/68\u001B[0m \u001B[32m━━━━━━━━━━━━━━━━━━━━\u001B[0m\u001B[37m\u001B[0m \u001B[1m2s\u001B[0m 28ms/step - loss: 6.8634e-05\n",
      "\u001B[1m5/5\u001B[0m \u001B[32m━━━━━━━━━━━━━━━━━━━━\u001B[0m\u001B[37m\u001B[0m \u001B[1m0s\u001B[0m 33ms/step\n"
     ]
    }
   ],
   "execution_count": 16
  },
  {
   "metadata": {
    "ExecuteTime": {
     "end_time": "2024-07-04T18:40:19.797834Z",
     "start_time": "2024-07-04T18:40:19.793429Z"
    }
   },
   "cell_type": "code",
   "source": "print(valid_preds)",
   "id": "459d82407eaf1aa4",
   "outputs": [
    {
     "name": "stdout",
     "output_type": "stream",
     "text": [
      "[[712.1833 ]\n",
      " [691.2621 ]\n",
      " [664.746  ]\n",
      " [638.9223 ]\n",
      " [618.0354 ]\n",
      " [599.82935]\n",
      " [570.38007]\n",
      " [544.4299 ]\n",
      " [513.84546]\n",
      " [484.95203]\n",
      " [459.38248]\n",
      " [436.62747]\n",
      " [421.00662]\n",
      " [411.43674]\n",
      " [404.8254 ]\n",
      " [397.35608]\n",
      " [389.1479 ]\n",
      " [359.0659 ]\n",
      " [327.75684]\n",
      " [303.5835 ]\n",
      " [290.89087]\n",
      " [287.927  ]\n",
      " [291.10083]\n",
      " [297.7899 ]\n",
      " [300.47437]\n",
      " [295.30673]\n",
      " [287.03677]\n",
      " [277.28326]\n",
      " [269.96143]\n",
      " [265.23032]\n",
      " [264.5233 ]\n",
      " [266.9395 ]\n",
      " [270.53662]\n",
      " [273.23416]\n",
      " [278.13715]\n",
      " [282.6475 ]\n",
      " [289.08542]\n",
      " [296.39746]\n",
      " [297.8853 ]\n",
      " [295.10065]\n",
      " [286.14664]\n",
      " [274.2813 ]\n",
      " [262.5804 ]\n",
      " [255.4076 ]\n",
      " [248.5277 ]\n",
      " [242.88861]\n",
      " [241.08365]\n",
      " [242.37315]\n",
      " [245.83775]\n",
      " [250.66374]\n",
      " [258.2796 ]\n",
      " [265.3444 ]\n",
      " [271.7943 ]\n",
      " [275.5689 ]\n",
      " [277.41428]\n",
      " [278.45807]\n",
      " [281.87317]\n",
      " [282.1873 ]\n",
      " [279.95126]\n",
      " [277.6552 ]\n",
      " [276.9284 ]\n",
      " [269.06332]\n",
      " [261.63083]\n",
      " [255.42953]\n",
      " [250.17676]\n",
      " [245.34778]\n",
      " [241.45311]\n",
      " [239.40247]\n",
      " [236.92184]\n",
      " [236.19823]\n",
      " [233.92992]\n",
      " [230.92589]\n",
      " [229.16872]\n",
      " [228.02638]\n",
      " [230.497  ]\n",
      " [236.10712]\n",
      " [240.68295]\n",
      " [242.64073]\n",
      " [246.29683]\n",
      " [254.09314]\n",
      " [265.1742 ]\n",
      " [274.18042]\n",
      " [278.96994]\n",
      " [282.25528]\n",
      " [287.16275]\n",
      " [291.90988]\n",
      " [291.17877]\n",
      " [287.8365 ]\n",
      " [283.19028]\n",
      " [277.1796 ]\n",
      " [269.48383]\n",
      " [266.4603 ]\n",
      " [263.1718 ]\n",
      " [259.64062]\n",
      " [254.31432]\n",
      " [247.55968]\n",
      " [241.43979]\n",
      " [234.23407]\n",
      " [227.2323 ]\n",
      " [224.15675]\n",
      " [224.7114 ]\n",
      " [226.49025]\n",
      " [229.75394]\n",
      " [237.6554 ]\n",
      " [246.38315]\n",
      " [253.22226]\n",
      " [259.77408]\n",
      " [265.41867]\n",
      " [266.60165]\n",
      " [266.66208]\n",
      " [267.22177]\n",
      " [268.16354]\n",
      " [267.5454 ]\n",
      " [264.76035]\n",
      " [260.0931 ]\n",
      " [254.02638]\n",
      " [248.20088]\n",
      " [245.40366]\n",
      " [247.8224 ]\n",
      " [248.3762 ]\n",
      " [247.01785]\n",
      " [243.11737]\n",
      " [238.85492]\n",
      " [237.21953]\n",
      " [239.39775]\n",
      " [244.2276 ]\n",
      " [246.41502]\n",
      " [251.70653]\n",
      " [255.03139]\n",
      " [274.01443]\n",
      " [297.7947 ]\n",
      " [315.96646]\n",
      " [323.9882 ]\n",
      " [324.8008 ]\n",
      " [325.28555]\n",
      " [323.33487]\n",
      " [321.3495 ]\n",
      " [317.93613]\n",
      " [312.30124]\n",
      " [307.5297 ]\n",
      " [301.44687]\n",
      " [294.7317 ]\n",
      " [289.0567 ]\n",
      " [285.23132]\n",
      " [286.31863]\n",
      " [286.18564]\n",
      " [284.37952]\n",
      " [281.9228 ]\n",
      " [276.0153 ]\n",
      " [268.57108]\n",
      " [261.67703]\n",
      " [254.4441 ]\n",
      " [246.7107 ]\n",
      " [241.3419 ]\n",
      " [237.13437]\n",
      " [234.57051]\n",
      " [230.78192]\n",
      " [227.34192]\n",
      " [222.86273]]\n"
     ]
    }
   ],
   "execution_count": 17
  },
  {
   "cell_type": "code",
   "id": "43e1f87a",
   "metadata": {
    "scrolled": false,
    "ExecuteTime": {
     "end_time": "2024-07-04T18:40:20.062686Z",
     "start_time": "2024-07-04T18:40:19.799228Z"
    }
   },
   "source": [
    "# 计算验证集上的RMSE -- 预测效果非常之差\n",
    "valid_rmse = np.sqrt(mean_squared_error(vaild_set['Close'].values[time_steps:], valid_preds))\n",
    "print(f\"LSTM RMSE on validation set: {valid_rmse}\")\n",
    "\n",
    "# 可视化LSTM结果\n",
    "plt.figure(figsize=(14, 7))\n",
    "plt.plot(train_set['Date'], train_set['Close'], label='Training Data')\n",
    "plt.plot(vaild_set['Date'][time_steps:], vaild_set['Close'].values[time_steps:], label='Validation Data')\n",
    "plt.plot(vaild_set['Date'][time_steps:], valid_preds, label='Validation Predictions')\n",
    "plt.xlabel('Date')\n",
    "plt.ylabel('Stock Price')\n",
    "plt.title('Stock Price Prediction with LSTM')\n",
    "plt.legend()\n",
    "plt.show()"
   ],
   "outputs": [
    {
     "name": "stdout",
     "output_type": "stream",
     "text": [
      "LSTM RMSE on validation set: 23.419100125191154\n"
     ]
    },
    {
     "data": {
      "text/plain": [
       "<Figure size 1400x700 with 1 Axes>"
      ],
      "image/png": "[encoded data removed]"
     },
     "metadata": {},
     "output_type": "display_data"
    }
   ],
   "execution_count": 18
  }
 ],
 "metadata": {
  "kernelspec": {
   "display_name": "Python 3 (ipykernel)",
   "language": "python",
   "name": "python3"
  },
  "language_info": {
   "codemirror_mode": {
    "name": "ipython",
    "version": 3
   },
   "file_extension": ".py",
   "mimetype": "text/x-python",
   "name": "python",
   "nbconvert_exporter": "python",
   "pygments_lexer": "ipython3",
   "version": "3.11.5"
  }
 },
 "nbformat": 4,
 "nbformat_minor": 5
}
