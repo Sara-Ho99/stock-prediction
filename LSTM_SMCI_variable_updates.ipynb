{
 "cells": [
  {
   "cell_type": "code",
   "id": "e2335a3b",
   "metadata": {
    "ExecuteTime": {
     "end_time": "2024-07-03T17:14:54.749567Z",
     "start_time": "2024-07-03T17:14:54.735404Z"
    }
   },
   "source": [
    "import pandas as pd"
   ],
   "outputs": [],
   "execution_count": 124
  },
  {
   "cell_type": "code",
   "id": "c6ddb23b",
   "metadata": {
    "ExecuteTime": {
     "end_time": "2024-07-03T17:14:54.826774Z",
     "start_time": "2024-07-03T17:14:54.771538Z"
    }
   },
   "source": [
    "# 检查数据\n",
    "def check_data(data):\n",
    "    print(\"数据的前几行：\")\n",
    "    display(data.head())\n",
    "    print(\"\\n数据的信息：\")\n",
    "    data.info()\n",
    "    print(\"\\n数据是否有缺失值：\")\n",
    "    print(data.isnull().sum())\n",
    "    print(\"\\n数据的描述统计信息：\")\n",
    "    display(data.describe())\n",
    "\n",
    "file_path = './data/SMCI.csv'\n",
    "data = pd.read_csv(file_path)\n",
    "check_data(data)"
   ],
   "outputs": [
    {
     "name": "stdout",
     "output_type": "stream",
     "text": [
      "数据的前几行：\n"
     ]
    },
    {
     "data": {
      "text/plain": [
       "         Date Close/Last    Volume     Open       High      Low\n",
       "0  06/21/2024    $905.26   7465581  $900.10  $917.9499  $863.22\n",
       "1  06/20/2024   $917.635  13432940  $961.29   $1014.02  $900.32\n",
       "2  06/18/2024    $920.01   8762073  $897.00    $938.88  $883.31\n",
       "3  06/17/2024    $887.41   8911764  $857.40    $921.91  $828.09\n",
       "4  06/14/2024    $844.54   6598781  $846.93    $872.00  $825.61"
      ],
      "text/html": [
       "<div>\n",
       "<style scoped>\n",
       "    .dataframe tbody tr th:only-of-type {\n",
       "        vertical-align: middle;\n",
       "    }\n",
       "\n",
       "    .dataframe tbody tr th {\n",
       "        vertical-align: top;\n",
       "    }\n",
       "\n",
       "    .dataframe thead th {\n",
       "        text-align: right;\n",
       "    }\n",
       "</style>\n",
       "<table border=\"1\" class=\"dataframe\">\n",
       "  <thead>\n",
       "    <tr style=\"text-align: right;\">\n",
       "      <th></th>\n",
       "      <th>Date</th>\n",
       "      <th>Close/Last</th>\n",
       "      <th>Volume</th>\n",
       "      <th>Open</th>\n",
       "      <th>High</th>\n",
       "      <th>Low</th>\n",
       "    </tr>\n",
       "  </thead>\n",
       "  <tbody>\n",
       "    <tr>\n",
       "      <th>0</th>\n",
       "      <td>06/21/2024</td>\n",
       "      <td>$905.26</td>\n",
       "      <td>7465581</td>\n",
       "      <td>$900.10</td>\n",
       "      <td>$917.9499</td>\n",
       "      <td>$863.22</td>\n",
       "    </tr>\n",
       "    <tr>\n",
       "      <th>1</th>\n",
       "      <td>06/20/2024</td>\n",
       "      <td>$917.635</td>\n",
       "      <td>13432940</td>\n",
       "      <td>$961.29</td>\n",
       "      <td>$1014.02</td>\n",
       "      <td>$900.32</td>\n",
       "    </tr>\n",
       "    <tr>\n",
       "      <th>2</th>\n",
       "      <td>06/18/2024</td>\n",
       "      <td>$920.01</td>\n",
       "      <td>8762073</td>\n",
       "      <td>$897.00</td>\n",
       "      <td>$938.88</td>\n",
       "      <td>$883.31</td>\n",
       "    </tr>\n",
       "    <tr>\n",
       "      <th>3</th>\n",
       "      <td>06/17/2024</td>\n",
       "      <td>$887.41</td>\n",
       "      <td>8911764</td>\n",
       "      <td>$857.40</td>\n",
       "      <td>$921.91</td>\n",
       "      <td>$828.09</td>\n",
       "    </tr>\n",
       "    <tr>\n",
       "      <th>4</th>\n",
       "      <td>06/14/2024</td>\n",
       "      <td>$844.54</td>\n",
       "      <td>6598781</td>\n",
       "      <td>$846.93</td>\n",
       "      <td>$872.00</td>\n",
       "      <td>$825.61</td>\n",
       "    </tr>\n",
       "  </tbody>\n",
       "</table>\n",
       "</div>"
      ]
     },
     "metadata": {},
     "output_type": "display_data"
    },
    {
     "name": "stdout",
     "output_type": "stream",
     "text": [
      "\n",
      "数据的信息：\n",
      "<class 'pandas.core.frame.DataFrame'>\n",
      "RangeIndex: 2516 entries, 0 to 2515\n",
      "Data columns (total 6 columns):\n",
      " #   Column      Non-Null Count  Dtype \n",
      "---  ------      --------------  ----- \n",
      " 0   Date        2516 non-null   object\n",
      " 1   Close/Last  2516 non-null   object\n",
      " 2   Volume      2516 non-null   int64 \n",
      " 3   Open        2516 non-null   object\n",
      " 4   High        2516 non-null   object\n",
      " 5   Low         2516 non-null   object\n",
      "dtypes: int64(1), object(5)\n",
      "memory usage: 118.1+ KB\n",
      "\n",
      "数据是否有缺失值：\n",
      "Date          0\n",
      "Close/Last    0\n",
      "Volume        0\n",
      "Open          0\n",
      "High          0\n",
      "Low           0\n",
      "dtype: int64\n",
      "\n",
      "数据的描述统计信息：\n"
     ]
    },
    {
     "data": {
      "text/plain": [
       "             Volume\n",
       "count  2.516000e+03\n",
       "mean   1.053906e+06\n",
       "std    2.374987e+06\n",
       "min    3.038000e+03\n",
       "25%    2.295038e+05\n",
       "50%    3.733460e+05\n",
       "75%    7.029622e+05\n",
       "max    3.403834e+07"
      ],
      "text/html": [
       "<div>\n",
       "<style scoped>\n",
       "    .dataframe tbody tr th:only-of-type {\n",
       "        vertical-align: middle;\n",
       "    }\n",
       "\n",
       "    .dataframe tbody tr th {\n",
       "        vertical-align: top;\n",
       "    }\n",
       "\n",
       "    .dataframe thead th {\n",
       "        text-align: right;\n",
       "    }\n",
       "</style>\n",
       "<table border=\"1\" class=\"dataframe\">\n",
       "  <thead>\n",
       "    <tr style=\"text-align: right;\">\n",
       "      <th></th>\n",
       "      <th>Volume</th>\n",
       "    </tr>\n",
       "  </thead>\n",
       "  <tbody>\n",
       "    <tr>\n",
       "      <th>count</th>\n",
       "      <td>2.516000e+03</td>\n",
       "    </tr>\n",
       "    <tr>\n",
       "      <th>mean</th>\n",
       "      <td>1.053906e+06</td>\n",
       "    </tr>\n",
       "    <tr>\n",
       "      <th>std</th>\n",
       "      <td>2.374987e+06</td>\n",
       "    </tr>\n",
       "    <tr>\n",
       "      <th>min</th>\n",
       "      <td>3.038000e+03</td>\n",
       "    </tr>\n",
       "    <tr>\n",
       "      <th>25%</th>\n",
       "      <td>2.295038e+05</td>\n",
       "    </tr>\n",
       "    <tr>\n",
       "      <th>50%</th>\n",
       "      <td>3.733460e+05</td>\n",
       "    </tr>\n",
       "    <tr>\n",
       "      <th>75%</th>\n",
       "      <td>7.029622e+05</td>\n",
       "    </tr>\n",
       "    <tr>\n",
       "      <th>max</th>\n",
       "      <td>3.403834e+07</td>\n",
       "    </tr>\n",
       "  </tbody>\n",
       "</table>\n",
       "</div>"
      ]
     },
     "metadata": {},
     "output_type": "display_data"
    }
   ],
   "execution_count": 125
  },
  {
   "cell_type": "code",
   "id": "1ba82ce2",
   "metadata": {
    "ExecuteTime": {
     "end_time": "2024-07-03T17:14:54.836330Z",
     "start_time": "2024-07-03T17:14:54.833385Z"
    }
   },
   "source": [
    "import numpy as np\n",
    "from sklearn.linear_model import LinearRegression\n",
    "from sklearn.metrics import mean_squared_error\n",
    "import datetime as dt\n",
    "import matplotlib.pyplot as plt"
   ],
   "outputs": [],
   "execution_count": 126
  },
  {
   "cell_type": "code",
   "id": "749387bb",
   "metadata": {
    "ExecuteTime": {
     "end_time": "2024-07-03T17:14:54.862790Z",
     "start_time": "2024-07-03T17:14:54.857871Z"
    }
   },
   "source": [
    "# 目前用的是tensorflow\n",
    "from sklearn.preprocessing import MinMaxScaler\n",
    "from tensorflow.keras.models import Sequential\n",
    "from tensorflow.keras.layers import LSTM, Dense, Dropout"
   ],
   "outputs": [],
   "execution_count": 127
  },
  {
   "cell_type": "code",
   "id": "09dd4872",
   "metadata": {
    "ExecuteTime": {
     "end_time": "2024-07-03T17:14:54.881933Z",
     "start_time": "2024-07-03T17:14:54.876690Z"
    }
   },
   "source": [
    "# 去除美元符号并转换为浮点数\n",
    "data['Close'] = data['Close/Last'].str.replace('$', '').astype(float)"
   ],
   "outputs": [],
   "execution_count": 128
  },
  {
   "cell_type": "code",
   "id": "828dff65",
   "metadata": {
    "ExecuteTime": {
     "end_time": "2024-07-03T17:14:54.928160Z",
     "start_time": "2024-07-03T17:14:54.916225Z"
    }
   },
   "source": "data",
   "outputs": [
    {
     "data": {
      "text/plain": [
       "            Date Close/Last    Volume     Open       High      Low    Close\n",
       "0     06/21/2024    $905.26   7465581  $900.10  $917.9499  $863.22  905.260\n",
       "1     06/20/2024   $917.635  13432940  $961.29   $1014.02  $900.32  917.635\n",
       "2     06/18/2024    $920.01   8762073  $897.00    $938.88  $883.31  920.010\n",
       "3     06/17/2024    $887.41   8911764  $857.40    $921.91  $828.09  887.410\n",
       "4     06/14/2024    $844.54   6598781  $846.93    $872.00  $825.61  844.540\n",
       "...          ...        ...       ...      ...        ...      ...      ...\n",
       "2511  06/30/2014     $25.27    648122   $24.69     $25.39   $24.61   25.270\n",
       "2512  06/27/2014     $24.69   1482237   $25.24    $25.405   $24.69   24.690\n",
       "2513  06/26/2014     $25.45    342669   $26.00     $26.00   $25.21   25.450\n",
       "2514  06/25/2014     $25.27    491864   $25.24     $25.49   $24.57   25.270\n",
       "2515  06/24/2014     $25.34    243530   $25.52     $25.98  $25.303   25.340\n",
       "\n",
       "[2516 rows x 7 columns]"
      ],
      "text/html": [
       "<div>\n",
       "<style scoped>\n",
       "    .dataframe tbody tr th:only-of-type {\n",
       "        vertical-align: middle;\n",
       "    }\n",
       "\n",
       "    .dataframe tbody tr th {\n",
       "        vertical-align: top;\n",
       "    }\n",
       "\n",
       "    .dataframe thead th {\n",
       "        text-align: right;\n",
       "    }\n",
       "</style>\n",
       "<table border=\"1\" class=\"dataframe\">\n",
       "  <thead>\n",
       "    <tr style=\"text-align: right;\">\n",
       "      <th></th>\n",
       "      <th>Date</th>\n",
       "      <th>Close/Last</th>\n",
       "      <th>Volume</th>\n",
       "      <th>Open</th>\n",
       "      <th>High</th>\n",
       "      <th>Low</th>\n",
       "      <th>Close</th>\n",
       "    </tr>\n",
       "  </thead>\n",
       "  <tbody>\n",
       "    <tr>\n",
       "      <th>0</th>\n",
       "      <td>06/21/2024</td>\n",
       "      <td>$905.26</td>\n",
       "      <td>7465581</td>\n",
       "      <td>$900.10</td>\n",
       "      <td>$917.9499</td>\n",
       "      <td>$863.22</td>\n",
       "      <td>905.260</td>\n",
       "    </tr>\n",
       "    <tr>\n",
       "      <th>1</th>\n",
       "      <td>06/20/2024</td>\n",
       "      <td>$917.635</td>\n",
       "      <td>13432940</td>\n",
       "      <td>$961.29</td>\n",
       "      <td>$1014.02</td>\n",
       "      <td>$900.32</td>\n",
       "      <td>917.635</td>\n",
       "    </tr>\n",
       "    <tr>\n",
       "      <th>2</th>\n",
       "      <td>06/18/2024</td>\n",
       "      <td>$920.01</td>\n",
       "      <td>8762073</td>\n",
       "      <td>$897.00</td>\n",
       "      <td>$938.88</td>\n",
       "      <td>$883.31</td>\n",
       "      <td>920.010</td>\n",
       "    </tr>\n",
       "    <tr>\n",
       "      <th>3</th>\n",
       "      <td>06/17/2024</td>\n",
       "      <td>$887.41</td>\n",
       "      <td>8911764</td>\n",
       "      <td>$857.40</td>\n",
       "      <td>$921.91</td>\n",
       "      <td>$828.09</td>\n",
       "      <td>887.410</td>\n",
       "    </tr>\n",
       "    <tr>\n",
       "      <th>4</th>\n",
       "      <td>06/14/2024</td>\n",
       "      <td>$844.54</td>\n",
       "      <td>6598781</td>\n",
       "      <td>$846.93</td>\n",
       "      <td>$872.00</td>\n",
       "      <td>$825.61</td>\n",
       "      <td>844.540</td>\n",
       "    </tr>\n",
       "    <tr>\n",
       "      <th>...</th>\n",
       "      <td>...</td>\n",
       "      <td>...</td>\n",
       "      <td>...</td>\n",
       "      <td>...</td>\n",
       "      <td>...</td>\n",
       "      <td>...</td>\n",
       "      <td>...</td>\n",
       "    </tr>\n",
       "    <tr>\n",
       "      <th>2511</th>\n",
       "      <td>06/30/2014</td>\n",
       "      <td>$25.27</td>\n",
       "      <td>648122</td>\n",
       "      <td>$24.69</td>\n",
       "      <td>$25.39</td>\n",
       "      <td>$24.61</td>\n",
       "      <td>25.270</td>\n",
       "    </tr>\n",
       "    <tr>\n",
       "      <th>2512</th>\n",
       "      <td>06/27/2014</td>\n",
       "      <td>$24.69</td>\n",
       "      <td>1482237</td>\n",
       "      <td>$25.24</td>\n",
       "      <td>$25.405</td>\n",
       "      <td>$24.69</td>\n",
       "      <td>24.690</td>\n",
       "    </tr>\n",
       "    <tr>\n",
       "      <th>2513</th>\n",
       "      <td>06/26/2014</td>\n",
       "      <td>$25.45</td>\n",
       "      <td>342669</td>\n",
       "      <td>$26.00</td>\n",
       "      <td>$26.00</td>\n",
       "      <td>$25.21</td>\n",
       "      <td>25.450</td>\n",
       "    </tr>\n",
       "    <tr>\n",
       "      <th>2514</th>\n",
       "      <td>06/25/2014</td>\n",
       "      <td>$25.27</td>\n",
       "      <td>491864</td>\n",
       "      <td>$25.24</td>\n",
       "      <td>$25.49</td>\n",
       "      <td>$24.57</td>\n",
       "      <td>25.270</td>\n",
       "    </tr>\n",
       "    <tr>\n",
       "      <th>2515</th>\n",
       "      <td>06/24/2014</td>\n",
       "      <td>$25.34</td>\n",
       "      <td>243530</td>\n",
       "      <td>$25.52</td>\n",
       "      <td>$25.98</td>\n",
       "      <td>$25.303</td>\n",
       "      <td>25.340</td>\n",
       "    </tr>\n",
       "  </tbody>\n",
       "</table>\n",
       "<p>2516 rows × 7 columns</p>\n",
       "</div>"
      ]
     },
     "execution_count": 129,
     "metadata": {},
     "output_type": "execute_result"
    }
   ],
   "execution_count": 129
  },
  {
   "metadata": {
    "ExecuteTime": {
     "end_time": "2024-07-03T17:14:55.029244Z",
     "start_time": "2024-07-03T17:14:55.023704Z"
    }
   },
   "cell_type": "code",
   "source": [
    "# Variables\n",
    "# Time horizon set to be 9 years for training, 1 year for validation\n",
    "\n",
    "time_steps = 90     # tested [30, 60, 90, 120], 90 is the most efficient one"
   ],
   "id": "c4fdd0a79a1db08d",
   "outputs": [],
   "execution_count": 130
  },
  {
   "cell_type": "code",
   "id": "0cbdb72d",
   "metadata": {
    "ExecuteTime": {
     "end_time": "2024-07-03T17:14:55.047321Z",
     "start_time": "2024-07-03T17:14:55.042495Z"
    }
   },
   "source": [
    "# 数据预处理\n",
    "def preprocess_data(train_set, valid_set):\n",
    "    scaler = MinMaxScaler(feature_range=(0, 1))\n",
    "    \n",
    "    # 将训练集和验证集的Close列进行归一化\n",
    "    train_data = scaler.fit_transform(train_set['Close'].values.reshape(-1, 1))\n",
    "    valid_data = scaler.transform(valid_set['Close'].values.reshape(-1, 1))\n",
    "    \n",
    "    x_train, y_train = [], []\n",
    "    for i in range(time_steps, len(train_data)):\n",
    "        x_train.append(train_data[i-time_steps:i, 0])\n",
    "        y_train.append(train_data[i, 0])\n",
    "    \n",
    "    x_valid, y_valid = [], []\n",
    "    for i in range(time_steps, len(valid_data)):\n",
    "        x_valid.append(valid_data[i-time_steps:i, 0])\n",
    "        y_valid.append(valid_data[i, 0])\n",
    "    \n",
    "    x_train, y_train = np.array(x_train), np.array(y_train)\n",
    "    x_train = np.reshape(x_train, (x_train.shape[0], x_train.shape[1], 1))\n",
    "    \n",
    "    x_valid, y_valid = np.array(x_valid), np.array(y_valid)\n",
    "    x_valid = np.reshape(x_valid, (x_valid.shape[0], x_valid.shape[1], 1))\n",
    "    \n",
    "    return x_train, y_train, x_valid, y_valid, scaler"
   ],
   "outputs": [],
   "execution_count": 131
  },
  {
   "cell_type": "code",
   "id": "8c5c9382",
   "metadata": {
    "ExecuteTime": {
     "end_time": "2024-07-03T17:14:55.053179Z",
     "start_time": "2024-07-03T17:14:55.049406Z"
    }
   },
   "source": [
    "# 调参：LSTM模型\n",
    "def build_model():\n",
    "    model = Sequential()\n",
    "    model.add(LSTM(units=50, return_sequences=True, input_shape=(time_steps, 1)))\n",
    "    model.add(Dropout(0.2))\n",
    "    model.add(LSTM(units=50, return_sequences=False))\n",
    "    model.add(Dropout(0.2))\n",
    "    model.add(Dense(units=1))\n",
    "    model.compile(optimizer='adam', loss='mean_squared_error')\n",
    "    return model"
   ],
   "outputs": [],
   "execution_count": 132
  },
  {
   "cell_type": "code",
   "id": "5db99227",
   "metadata": {
    "ExecuteTime": {
     "end_time": "2024-07-03T17:14:55.086112Z",
     "start_time": "2024-07-03T17:14:55.080558Z"
    }
   },
   "source": [
    "# 调参：训练模型\n",
    "def train_model(model, x_train, y_train):\n",
    "    model.fit(x_train, y_train, epochs=25, batch_size=32)"
   ],
   "outputs": [],
   "execution_count": 133
  },
  {
   "cell_type": "code",
   "id": "a25f0e47",
   "metadata": {
    "ExecuteTime": {
     "end_time": "2024-07-03T17:14:55.106053Z",
     "start_time": "2024-07-03T17:14:55.103413Z"
    }
   },
   "source": [
    "# 预测函数\n",
    "def make_prediction(model, x_valid, scaler):\n",
    "    predictions = model.predict(x_valid)\n",
    "    predictions = scaler.inverse_transform(predictions)\n",
    "    return predictions"
   ],
   "outputs": [],
   "execution_count": 134
  },
  {
   "cell_type": "code",
   "id": "b00d8512",
   "metadata": {
    "ExecuteTime": {
     "end_time": "2024-07-03T17:14:55.155793Z",
     "start_time": "2024-07-03T17:14:55.137403Z"
    }
   },
   "source": [
    "data['Date'] = pd.to_datetime(data['Date'])\n",
    "train_set = data[(data['Date'] >= '2014-06-24') & (data['Date'] < '2023-06-24')].copy()\n",
    "vaild_set = data[(data['Date'] >= '2023-06-25') & (data['Date'] < '2024-06-21')].copy()"
   ],
   "outputs": [],
   "execution_count": 135
  },
  {
   "cell_type": "code",
   "id": "ae77d6ad",
   "metadata": {
    "ExecuteTime": {
     "end_time": "2024-07-03T17:14:55.168871Z",
     "start_time": "2024-07-03T17:14:55.158424Z"
    }
   },
   "source": [
    "train_set"
   ],
   "outputs": [
    {
     "data": {
      "text/plain": [
       "           Date Close/Last   Volume     Open       High      Low   Close\n",
       "250  2023-06-23    $216.06  2513226  $222.34    $224.49  $214.23  216.06\n",
       "251  2023-06-22    $226.46  3938637  $221.99  $241.9699  $221.14  226.46\n",
       "252  2023-06-21    $219.91  2603561  $221.00    $227.00  $217.20  219.91\n",
       "253  2023-06-20    $222.40  3366546  $227.30  $235.7096  $219.33  222.40\n",
       "254  2023-06-16    $230.77  3034647  $245.00    $245.78  $230.37  230.77\n",
       "...         ...        ...      ...      ...        ...      ...     ...\n",
       "2511 2014-06-30     $25.27   648122   $24.69     $25.39   $24.61   25.27\n",
       "2512 2014-06-27     $24.69  1482237   $25.24    $25.405   $24.69   24.69\n",
       "2513 2014-06-26     $25.45   342669   $26.00     $26.00   $25.21   25.45\n",
       "2514 2014-06-25     $25.27   491864   $25.24     $25.49   $24.57   25.27\n",
       "2515 2014-06-24     $25.34   243530   $25.52     $25.98  $25.303   25.34\n",
       "\n",
       "[2266 rows x 7 columns]"
      ],
      "text/html": [
       "<div>\n",
       "<style scoped>\n",
       "    .dataframe tbody tr th:only-of-type {\n",
       "        vertical-align: middle;\n",
       "    }\n",
       "\n",
       "    .dataframe tbody tr th {\n",
       "        vertical-align: top;\n",
       "    }\n",
       "\n",
       "    .dataframe thead th {\n",
       "        text-align: right;\n",
       "    }\n",
       "</style>\n",
       "<table border=\"1\" class=\"dataframe\">\n",
       "  <thead>\n",
       "    <tr style=\"text-align: right;\">\n",
       "      <th></th>\n",
       "      <th>Date</th>\n",
       "      <th>Close/Last</th>\n",
       "      <th>Volume</th>\n",
       "      <th>Open</th>\n",
       "      <th>High</th>\n",
       "      <th>Low</th>\n",
       "      <th>Close</th>\n",
       "    </tr>\n",
       "  </thead>\n",
       "  <tbody>\n",
       "    <tr>\n",
       "      <th>250</th>\n",
       "      <td>2023-06-23</td>\n",
       "      <td>$216.06</td>\n",
       "      <td>2513226</td>\n",
       "      <td>$222.34</td>\n",
       "      <td>$224.49</td>\n",
       "      <td>$214.23</td>\n",
       "      <td>216.06</td>\n",
       "    </tr>\n",
       "    <tr>\n",
       "      <th>251</th>\n",
       "      <td>2023-06-22</td>\n",
       "      <td>$226.46</td>\n",
       "      <td>3938637</td>\n",
       "      <td>$221.99</td>\n",
       "      <td>$241.9699</td>\n",
       "      <td>$221.14</td>\n",
       "      <td>226.46</td>\n",
       "    </tr>\n",
       "    <tr>\n",
       "      <th>252</th>\n",
       "      <td>2023-06-21</td>\n",
       "      <td>$219.91</td>\n",
       "      <td>2603561</td>\n",
       "      <td>$221.00</td>\n",
       "      <td>$227.00</td>\n",
       "      <td>$217.20</td>\n",
       "      <td>219.91</td>\n",
       "    </tr>\n",
       "    <tr>\n",
       "      <th>253</th>\n",
       "      <td>2023-06-20</td>\n",
       "      <td>$222.40</td>\n",
       "      <td>3366546</td>\n",
       "      <td>$227.30</td>\n",
       "      <td>$235.7096</td>\n",
       "      <td>$219.33</td>\n",
       "      <td>222.40</td>\n",
       "    </tr>\n",
       "    <tr>\n",
       "      <th>254</th>\n",
       "      <td>2023-06-16</td>\n",
       "      <td>$230.77</td>\n",
       "      <td>3034647</td>\n",
       "      <td>$245.00</td>\n",
       "      <td>$245.78</td>\n",
       "      <td>$230.37</td>\n",
       "      <td>230.77</td>\n",
       "    </tr>\n",
       "    <tr>\n",
       "      <th>...</th>\n",
       "      <td>...</td>\n",
       "      <td>...</td>\n",
       "      <td>...</td>\n",
       "      <td>...</td>\n",
       "      <td>...</td>\n",
       "      <td>...</td>\n",
       "      <td>...</td>\n",
       "    </tr>\n",
       "    <tr>\n",
       "      <th>2511</th>\n",
       "      <td>2014-06-30</td>\n",
       "      <td>$25.27</td>\n",
       "      <td>648122</td>\n",
       "      <td>$24.69</td>\n",
       "      <td>$25.39</td>\n",
       "      <td>$24.61</td>\n",
       "      <td>25.27</td>\n",
       "    </tr>\n",
       "    <tr>\n",
       "      <th>2512</th>\n",
       "      <td>2014-06-27</td>\n",
       "      <td>$24.69</td>\n",
       "      <td>1482237</td>\n",
       "      <td>$25.24</td>\n",
       "      <td>$25.405</td>\n",
       "      <td>$24.69</td>\n",
       "      <td>24.69</td>\n",
       "    </tr>\n",
       "    <tr>\n",
       "      <th>2513</th>\n",
       "      <td>2014-06-26</td>\n",
       "      <td>$25.45</td>\n",
       "      <td>342669</td>\n",
       "      <td>$26.00</td>\n",
       "      <td>$26.00</td>\n",
       "      <td>$25.21</td>\n",
       "      <td>25.45</td>\n",
       "    </tr>\n",
       "    <tr>\n",
       "      <th>2514</th>\n",
       "      <td>2014-06-25</td>\n",
       "      <td>$25.27</td>\n",
       "      <td>491864</td>\n",
       "      <td>$25.24</td>\n",
       "      <td>$25.49</td>\n",
       "      <td>$24.57</td>\n",
       "      <td>25.27</td>\n",
       "    </tr>\n",
       "    <tr>\n",
       "      <th>2515</th>\n",
       "      <td>2014-06-24</td>\n",
       "      <td>$25.34</td>\n",
       "      <td>243530</td>\n",
       "      <td>$25.52</td>\n",
       "      <td>$25.98</td>\n",
       "      <td>$25.303</td>\n",
       "      <td>25.34</td>\n",
       "    </tr>\n",
       "  </tbody>\n",
       "</table>\n",
       "<p>2266 rows × 7 columns</p>\n",
       "</div>"
      ]
     },
     "execution_count": 136,
     "metadata": {},
     "output_type": "execute_result"
    }
   ],
   "execution_count": 136
  },
  {
   "cell_type": "code",
   "id": "f32867f6",
   "metadata": {
    "scrolled": true,
    "ExecuteTime": {
     "end_time": "2024-07-03T17:15:49.528371Z",
     "start_time": "2024-07-03T17:14:55.171145Z"
    }
   },
   "source": [
    "# 调用预处理\n",
    "x_train, y_train, x_valid, y_valid, scaler = preprocess_data(train_set, vaild_set)\n",
    "# 训练模型\n",
    "model = build_model()\n",
    "train_model(model, x_train, y_train)\n",
    "#预测\n",
    "valid_preds = make_prediction(model, x_valid, scaler)"
   ],
   "outputs": [
    {
     "name": "stdout",
     "output_type": "stream",
     "text": [
      "Epoch 1/25\n"
     ]
    },
    {
     "name": "stderr",
     "output_type": "stream",
     "text": [
      "/Users/beilinye/Desktop/Spring_2024/SYDE_660a/6_Code/stock-prediction/.venv/lib/python3.10/site-packages/keras/src/layers/rnn/rnn.py:204: UserWarning: Do not pass an `input_shape`/`input_dim` argument to a layer. When using Sequential models, prefer using an `Input(shape)` object as the first layer in the model instead.\n",
      "  super().__init__(**kwargs)\n"
     ]
    },
    {
     "name": "stdout",
     "output_type": "stream",
     "text": [
      "\u001B[1m68/68\u001B[0m \u001B[32m━━━━━━━━━━━━━━━━━━━━\u001B[0m\u001B[37m\u001B[0m \u001B[1m4s\u001B[0m 35ms/step - loss: 0.0016\n",
      "Epoch 2/25\n",
      "\u001B[1m68/68\u001B[0m \u001B[32m━━━━━━━━━━━━━━━━━━━━\u001B[0m\u001B[37m\u001B[0m \u001B[1m2s\u001B[0m 31ms/step - loss: 2.2726e-04\n",
      "Epoch 3/25\n",
      "\u001B[1m68/68\u001B[0m \u001B[32m━━━━━━━━━━━━━━━━━━━━\u001B[0m\u001B[37m\u001B[0m \u001B[1m2s\u001B[0m 29ms/step - loss: 1.7945e-04\n",
      "Epoch 4/25\n",
      "\u001B[1m68/68\u001B[0m \u001B[32m━━━━━━━━━━━━━━━━━━━━\u001B[0m\u001B[37m\u001B[0m \u001B[1m2s\u001B[0m 30ms/step - loss: 1.6532e-04\n",
      "Epoch 5/25\n",
      "\u001B[1m68/68\u001B[0m \u001B[32m━━━━━━━━━━━━━━━━━━━━\u001B[0m\u001B[37m\u001B[0m \u001B[1m2s\u001B[0m 36ms/step - loss: 1.2634e-04\n",
      "Epoch 6/25\n",
      "\u001B[1m68/68\u001B[0m \u001B[32m━━━━━━━━━━━━━━━━━━━━\u001B[0m\u001B[37m\u001B[0m \u001B[1m2s\u001B[0m 30ms/step - loss: 1.4924e-04\n",
      "Epoch 7/25\n",
      "\u001B[1m68/68\u001B[0m \u001B[32m━━━━━━━━━━━━━━━━━━━━\u001B[0m\u001B[37m\u001B[0m \u001B[1m2s\u001B[0m 31ms/step - loss: 1.2397e-04\n",
      "Epoch 8/25\n",
      "\u001B[1m68/68\u001B[0m \u001B[32m━━━━━━━━━━━━━━━━━━━━\u001B[0m\u001B[37m\u001B[0m \u001B[1m2s\u001B[0m 31ms/step - loss: 1.5162e-04\n",
      "Epoch 9/25\n",
      "\u001B[1m68/68\u001B[0m \u001B[32m━━━━━━━━━━━━━━━━━━━━\u001B[0m\u001B[37m\u001B[0m \u001B[1m2s\u001B[0m 30ms/step - loss: 1.1935e-04\n",
      "Epoch 10/25\n",
      "\u001B[1m68/68\u001B[0m \u001B[32m━━━━━━━━━━━━━━━━━━━━\u001B[0m\u001B[37m\u001B[0m \u001B[1m2s\u001B[0m 29ms/step - loss: 9.2759e-05\n",
      "Epoch 11/25\n",
      "\u001B[1m68/68\u001B[0m \u001B[32m━━━━━━━━━━━━━━━━━━━━\u001B[0m\u001B[37m\u001B[0m \u001B[1m2s\u001B[0m 33ms/step - loss: 1.1374e-04\n",
      "Epoch 12/25\n",
      "\u001B[1m68/68\u001B[0m \u001B[32m━━━━━━━━━━━━━━━━━━━━\u001B[0m\u001B[37m\u001B[0m \u001B[1m2s\u001B[0m 29ms/step - loss: 1.0851e-04\n",
      "Epoch 13/25\n",
      "\u001B[1m68/68\u001B[0m \u001B[32m━━━━━━━━━━━━━━━━━━━━\u001B[0m\u001B[37m\u001B[0m \u001B[1m2s\u001B[0m 31ms/step - loss: 8.7587e-05\n",
      "Epoch 14/25\n",
      "\u001B[1m68/68\u001B[0m \u001B[32m━━━━━━━━━━━━━━━━━━━━\u001B[0m\u001B[37m\u001B[0m \u001B[1m2s\u001B[0m 31ms/step - loss: 1.1148e-04\n",
      "Epoch 15/25\n",
      "\u001B[1m68/68\u001B[0m \u001B[32m━━━━━━━━━━━━━━━━━━━━\u001B[0m\u001B[37m\u001B[0m \u001B[1m2s\u001B[0m 30ms/step - loss: 9.8148e-05\n",
      "Epoch 16/25\n",
      "\u001B[1m68/68\u001B[0m \u001B[32m━━━━━━━━━━━━━━━━━━━━\u001B[0m\u001B[37m\u001B[0m \u001B[1m2s\u001B[0m 30ms/step - loss: 8.3001e-05\n",
      "Epoch 17/25\n",
      "\u001B[1m68/68\u001B[0m \u001B[32m━━━━━━━━━━━━━━━━━━━━\u001B[0m\u001B[37m\u001B[0m \u001B[1m2s\u001B[0m 30ms/step - loss: 1.0996e-04\n",
      "Epoch 18/25\n",
      "\u001B[1m68/68\u001B[0m \u001B[32m━━━━━━━━━━━━━━━━━━━━\u001B[0m\u001B[37m\u001B[0m \u001B[1m2s\u001B[0m 33ms/step - loss: 9.0831e-05\n",
      "Epoch 19/25\n",
      "\u001B[1m68/68\u001B[0m \u001B[32m━━━━━━━━━━━━━━━━━━━━\u001B[0m\u001B[37m\u001B[0m \u001B[1m2s\u001B[0m 30ms/step - loss: 8.1792e-05\n",
      "Epoch 20/25\n",
      "\u001B[1m68/68\u001B[0m \u001B[32m━━━━━━━━━━━━━━━━━━━━\u001B[0m\u001B[37m\u001B[0m \u001B[1m2s\u001B[0m 29ms/step - loss: 8.1771e-05\n",
      "Epoch 21/25\n",
      "\u001B[1m68/68\u001B[0m \u001B[32m━━━━━━━━━━━━━━━━━━━━\u001B[0m\u001B[37m\u001B[0m \u001B[1m2s\u001B[0m 30ms/step - loss: 1.0167e-04\n",
      "Epoch 22/25\n",
      "\u001B[1m68/68\u001B[0m \u001B[32m━━━━━━━━━━━━━━━━━━━━\u001B[0m\u001B[37m\u001B[0m \u001B[1m2s\u001B[0m 30ms/step - loss: 8.1597e-05\n",
      "Epoch 23/25\n",
      "\u001B[1m68/68\u001B[0m \u001B[32m━━━━━━━━━━━━━━━━━━━━\u001B[0m\u001B[37m\u001B[0m \u001B[1m2s\u001B[0m 29ms/step - loss: 7.5392e-05\n",
      "Epoch 24/25\n",
      "\u001B[1m68/68\u001B[0m \u001B[32m━━━━━━━━━━━━━━━━━━━━\u001B[0m\u001B[37m\u001B[0m \u001B[1m2s\u001B[0m 29ms/step - loss: 7.2043e-05\n",
      "Epoch 25/25\n",
      "\u001B[1m68/68\u001B[0m \u001B[32m━━━━━━━━━━━━━━━━━━━━\u001B[0m\u001B[37m\u001B[0m \u001B[1m2s\u001B[0m 32ms/step - loss: 7.8854e-05\n",
      "\u001B[1m5/5\u001B[0m \u001B[32m━━━━━━━━━━━━━━━━━━━━\u001B[0m\u001B[37m\u001B[0m \u001B[1m0s\u001B[0m 33ms/step\n"
     ]
    }
   ],
   "execution_count": 137
  },
  {
   "metadata": {
    "ExecuteTime": {
     "end_time": "2024-07-04T18:12:53.773972Z",
     "start_time": "2024-07-04T18:12:53.642805Z"
    }
   },
   "cell_type": "code",
   "source": "print(valid_preds)",
   "id": "459d82407eaf1aa4",
   "outputs": [
    {
     "ename": "NameError",
     "evalue": "name 'valid_preds' is not defined",
     "output_type": "error",
     "traceback": [
      "\u001B[0;31m---------------------------------------------------------------------------\u001B[0m",
      "\u001B[0;31mNameError\u001B[0m                                 Traceback (most recent call last)",
      "Cell \u001B[0;32mIn[1], line 1\u001B[0m\n\u001B[0;32m----> 1\u001B[0m \u001B[38;5;28mprint\u001B[39m(\u001B[43mvalid_preds\u001B[49m)\n",
      "\u001B[0;31mNameError\u001B[0m: name 'valid_preds' is not defined"
     ]
    }
   ],
   "execution_count": 1
  },
  {
   "cell_type": "code",
   "id": "43e1f87a",
   "metadata": {
    "scrolled": false,
    "ExecuteTime": {
     "end_time": "2024-07-03T17:15:49.796078Z",
     "start_time": "2024-07-03T17:15:49.530809Z"
    }
   },
   "source": [
    "# 计算验证集上的RMSE -- 预测效果非常之差\n",
    "valid_rmse = np.sqrt(mean_squared_error(vaild_set['Close'].values[time_steps:], valid_preds))\n",
    "print(f\"LSTM RMSE on validation set: {valid_rmse}\")\n",
    "\n",
    "# 可视化LSTM结果\n",
    "plt.figure(figsize=(14, 7))\n",
    "plt.plot(train_set['Date'], train_set['Close'], label='Training Data')\n",
    "plt.plot(vaild_set['Date'][time_steps:], vaild_set['Close'].values[time_steps:], label='Validation Data')\n",
    "plt.plot(vaild_set['Date'][time_steps:], valid_preds, label='Validation Predictions')\n",
    "plt.xlabel('Date')\n",
    "plt.ylabel('Stock Price')\n",
    "plt.title('Stock Price Prediction with LSTM')\n",
    "plt.legend()\n",
    "plt.show()"
   ],
   "outputs": [
    {
     "name": "stdout",
     "output_type": "stream",
     "text": [
      "LSTM RMSE on validation set: 34.167561980339926\n"
     ]
    },
    {
     "data": {
      "text/plain": [
       "<Figure size 1400x700 with 1 Axes>"
      ],
      "image/png": "[encoded data removed]"
     },
     "metadata": {},
     "output_type": "display_data"
    }
   ],
   "execution_count": 138
  }
 ],
 "metadata": {
  "kernelspec": {
   "display_name": "Python 3 (ipykernel)",
   "language": "python",
   "name": "python3"
  },
  "language_info": {
   "codemirror_mode": {
    "name": "ipython",
    "version": 3
   },
   "file_extension": ".py",
   "mimetype": "text/x-python",
   "name": "python",
   "nbconvert_exporter": "python",
   "pygments_lexer": "ipython3",
   "version": "3.11.5"
  }
 },
 "nbformat": 4,
 "nbformat_minor": 5
}
